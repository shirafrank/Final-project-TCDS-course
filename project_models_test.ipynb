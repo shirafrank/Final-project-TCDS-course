{
 "cells": [
  {
   "cell_type": "code",
   "execution_count": 3,
   "metadata": {},
   "outputs": [],
   "source": [
    "import numpy as np\n",
    "import pandas as pd\n",
    "import matplotlib.pyplot as plt\n",
    "import seaborn as sn\n",
    "from sklearn.metrics import mean_squared_error"
   ]
  },
  {
   "cell_type": "code",
   "execution_count": 4,
   "metadata": {},
   "outputs": [],
   "source": [
    "X_train = pd.read_csv(r\"C:\\Users\\malmagor\\Desktop\\פרויקט גמר לימודים\\סופי\\X_train_27022019.csv\")\n",
    "y_train = pd.read_csv(r\"C:\\Users\\malmagor\\Desktop\\פרויקט גמר לימודים\\סופי\\y_train_27022019.csv\")\n",
    "X_dev = pd.read_csv(r\"C:\\Users\\malmagor\\Desktop\\פרויקט גמר לימודים\\סופי\\X_dev_27022019.csv\")\n",
    "y_dev = pd.read_csv(r\"C:\\Users\\malmagor\\Desktop\\פרויקט גמר לימודים\\סופי\\y_dev_27022019.csv\")\n",
    "X_test = pd.read_csv(r\"C:\\Users\\malmagor\\Desktop\\פרויקט גמר לימודים\\סופי\\X_test_27022019.csv\")\n",
    "y_test = pd.read_csv(r\"C:\\Users\\malmagor\\Desktop\\פרויקט גמר לימודים\\סופי\\y_test_27022019.csv\")\n"
   ]
  },
  {
   "cell_type": "code",
   "execution_count": 5,
   "metadata": {},
   "outputs": [],
   "source": [
    "X_dev['IsOrganic'] = X_dev['IsOrganic'].astype('int')"
   ]
  },
  {
   "cell_type": "code",
   "execution_count": 6,
   "metadata": {},
   "outputs": [],
   "source": [
    "X_train['IsOrganic'] = X_train['IsOrganic'].astype('int')"
   ]
  },
  {
   "cell_type": "code",
   "execution_count": 7,
   "metadata": {},
   "outputs": [],
   "source": [
    "X_test['IsOrganic'] = X_test['IsOrganic'].astype('int')"
   ]
  },
  {
   "cell_type": "code",
   "execution_count": 8,
   "metadata": {},
   "outputs": [],
   "source": [
    "X_dev['order_HourGroup'] =X_dev['order_HourGroup'].astype('category')\n"
   ]
  },
  {
   "cell_type": "code",
   "execution_count": 9,
   "metadata": {},
   "outputs": [],
   "source": [
    "X_train['order_HourGroup'] =X_train['order_HourGroup'].astype('category')"
   ]
  },
  {
   "cell_type": "code",
   "execution_count": 10,
   "metadata": {},
   "outputs": [],
   "source": [
    "X_test['order_HourGroup'] =X_test['order_HourGroup'].astype('category')"
   ]
  },
  {
   "cell_type": "code",
   "execution_count": 11,
   "metadata": {},
   "outputs": [],
   "source": [
    "def one_hot_encoding(data,var,drop=True):\n",
    "    #res = []\n",
    "    #nm = data[var].name\n",
    "    nn = data[var].unique()\n",
    "    for i in nn:\n",
    "        s = '%s_%s' % (var,i)\n",
    "        data[s] = 0\n",
    "        data.loc[data[var]==i,s] = 1\n",
    "        #res.append(newx)\n",
    "    if(drop==True):\n",
    "        data = data.drop(var,axis=1)\n",
    "    return(data)"
   ]
  },
  {
   "cell_type": "code",
   "execution_count": 12,
   "metadata": {},
   "outputs": [],
   "source": [
    "X_train = one_hot_encoding(X_train,'order_HourGroup')\n",
    "\n",
    "X_dev = one_hot_encoding(X_dev,'order_HourGroup')\n",
    "\n",
    "X_test = one_hot_encoding(X_test,'order_HourGroup')\n"
   ]
  },
  {
   "cell_type": "markdown",
   "metadata": {},
   "source": [
    "# The following function calculates the Hamming score that calculates the multilabel accuracy. "
   ]
  },
  {
   "cell_type": "code",
   "execution_count": 13,
   "metadata": {},
   "outputs": [],
   "source": [
    "def hamming_score(y_true, y_pred, normalize=True, sample_weight=None):\n",
    "    '''\n",
    "    Compute the Hamming score (a.k.a. label-based accuracy) for the multi-label case\n",
    "    https://stackoverflow.com/q/32239577/395857\n",
    "    '''\n",
    "    acc_list = []\n",
    "    for i in range(y_true.shape[0]):\n",
    "        set_true = set( np.where(y_true[i])[0] )\n",
    "        set_pred = set( np.where(y_pred[i])[0] )\n",
    "        #print('\\nset_true: {0}'.format(set_true))\n",
    "        #print('set_pred: {0}'.format(set_pred))\n",
    "        tmp_a = None\n",
    "        if len(set_true) == 0 and len(set_pred) == 0:\n",
    "            tmp_a = 1\n",
    "        else:\n",
    "            tmp_a = len(set_true.intersection(set_pred))/\\\n",
    "                    float( len(set_true.union(set_pred)) )\n",
    "        #print('tmp_a: {0}'.format(tmp_a))\n",
    "        acc_list.append(tmp_a)\n",
    "    return np.mean(acc_list)\n",
    "\n"
   ]
  },
  {
   "cell_type": "markdown",
   "metadata": {},
   "source": [
    "## We selected the folowing models because they received  the most highest accuracy  therfore we will run X_test on this models\n",
    " \n",
    "\n",
    "Support multilabel:\n",
    "\n",
    "- sklearn.tree.DecisionTreeClassifier\n",
    "- sklearn.tree.ExtraTreeClassifier\n",
    "- sklearn.ensemble.ExtraTreesClassifier\n",
    "- sklearn.ensemble.RandomForestClassifier\n",
    "- sklearn.neighbors.KNeighborsClassifier\n"
   ]
  },
  {
   "cell_type": "code",
   "execution_count": 23,
   "metadata": {},
   "outputs": [],
   "source": [
    "# using Label Powerset\n",
    "from skmultilearn.problem_transform import LabelPowerset\n",
    "from sklearn.linear_model import LogisticRegression\n"
   ]
  },
  {
   "cell_type": "markdown",
   "metadata": {},
   "source": [
    "### TRANSFORMED THE MULTILEVEL-Y TO A NUMPY ARRAY"
   ]
  },
  {
   "cell_type": "code",
   "execution_count": 14,
   "metadata": {},
   "outputs": [
    {
     "name": "stdout",
     "output_type": "stream",
     "text": [
      "(402512, 30)\n",
      "[[0 0 0 ... 0 0 0]\n",
      " [0 0 0 ... 0 0 0]\n",
      " [0 0 0 ... 0 0 0]\n",
      " ...\n",
      " [0 0 0 ... 0 0 0]\n",
      " [0 0 0 ... 0 0 0]\n",
      " [0 0 0 ... 0 0 0]]\n"
     ]
    }
   ],
   "source": [
    "y_dev.head()\n",
    "ydev = y_dev.copy()\n",
    "ydev = np.array(ydev)\n",
    "ydev = np.delete(ydev, 0, 1) \n",
    "print(ydev.shape)\n",
    "print(ydev)"
   ]
  },
  {
   "cell_type": "code",
   "execution_count": 15,
   "metadata": {},
   "outputs": [
    {
     "name": "stdout",
     "output_type": "stream",
     "text": [
      "(402512, 30)\n",
      "[[0 0 0 ... 0 0 0]\n",
      " [0 0 0 ... 0 0 0]\n",
      " [0 0 0 ... 0 0 0]\n",
      " ...\n",
      " [0 0 0 ... 0 0 0]\n",
      " [0 0 0 ... 0 0 0]\n",
      " [0 0 0 ... 0 0 0]]\n"
     ]
    }
   ],
   "source": [
    "y_test.head()\n",
    "ytest = y_test.copy()\n",
    "ytest = np.array(ytest)\n",
    "ytest = np.delete(ytest, 0, 1) \n",
    "print(ytest.shape)\n",
    "print(ytest)"
   ]
  },
  {
   "cell_type": "code",
   "execution_count": 16,
   "metadata": {},
   "outputs": [
    {
     "name": "stdout",
     "output_type": "stream",
     "text": [
      "(3220100, 30)\n",
      "[[0 0 0 ... 0 0 0]\n",
      " [0 0 0 ... 0 0 0]\n",
      " [0 0 0 ... 1 0 0]\n",
      " ...\n",
      " [0 0 0 ... 0 0 0]\n",
      " [0 0 0 ... 0 0 0]\n",
      " [0 0 0 ... 0 0 0]]\n"
     ]
    }
   ],
   "source": [
    "y_train.head()\n",
    "ytrain = y_train.copy()\n",
    "ytrain = np.array(ytrain)\n",
    "ytrain = np.delete(ytrain, 0, 1) \n",
    "print(ytrain.shape)\n",
    "print(ytrain)"
   ]
  },
  {
   "cell_type": "markdown",
   "metadata": {},
   "source": [
    "# deleting the first column in X_dev/train/test, because we can't put the user_id in the models"
   ]
  },
  {
   "cell_type": "code",
   "execution_count": 17,
   "metadata": {},
   "outputs": [
    {
     "name": "stdout",
     "output_type": "stream",
     "text": [
      "(402512, 10)\n"
     ]
    },
    {
     "data": {
      "text/html": [
       "<div>\n",
       "<style scoped>\n",
       "    .dataframe tbody tr th:only-of-type {\n",
       "        vertical-align: middle;\n",
       "    }\n",
       "\n",
       "    .dataframe tbody tr th {\n",
       "        vertical-align: top;\n",
       "    }\n",
       "\n",
       "    .dataframe thead th {\n",
       "        text-align: right;\n",
       "    }\n",
       "</style>\n",
       "<table border=\"1\" class=\"dataframe\">\n",
       "  <thead>\n",
       "    <tr style=\"text-align: right;\">\n",
       "      <th></th>\n",
       "      <th>reordered</th>\n",
       "      <th>product_popularity_cnt</th>\n",
       "      <th>department_popularity_cnt</th>\n",
       "      <th>IsOrganic</th>\n",
       "      <th>days_previous_Group</th>\n",
       "      <th>Percentage_amount_product</th>\n",
       "      <th>order_HourGroup_18-24</th>\n",
       "      <th>order_HourGroup_06-12</th>\n",
       "      <th>order_HourGroup_00-06</th>\n",
       "      <th>order_HourGroup_12-18</th>\n",
       "    </tr>\n",
       "  </thead>\n",
       "  <tbody>\n",
       "    <tr>\n",
       "      <th>0</th>\n",
       "      <td>1</td>\n",
       "      <td>0.024617</td>\n",
       "      <td>0.929434</td>\n",
       "      <td>1</td>\n",
       "      <td>1</td>\n",
       "      <td>0.0625</td>\n",
       "      <td>1</td>\n",
       "      <td>0</td>\n",
       "      <td>0</td>\n",
       "      <td>0</td>\n",
       "    </tr>\n",
       "    <tr>\n",
       "      <th>1</th>\n",
       "      <td>1</td>\n",
       "      <td>0.020455</td>\n",
       "      <td>0.929434</td>\n",
       "      <td>1</td>\n",
       "      <td>1</td>\n",
       "      <td>0.1875</td>\n",
       "      <td>0</td>\n",
       "      <td>1</td>\n",
       "      <td>0</td>\n",
       "      <td>0</td>\n",
       "    </tr>\n",
       "    <tr>\n",
       "      <th>2</th>\n",
       "      <td>1</td>\n",
       "      <td>0.115153</td>\n",
       "      <td>0.929434</td>\n",
       "      <td>0</td>\n",
       "      <td>2</td>\n",
       "      <td>0.2500</td>\n",
       "      <td>0</td>\n",
       "      <td>0</td>\n",
       "      <td>1</td>\n",
       "      <td>0</td>\n",
       "    </tr>\n",
       "    <tr>\n",
       "      <th>3</th>\n",
       "      <td>1</td>\n",
       "      <td>0.115153</td>\n",
       "      <td>0.929434</td>\n",
       "      <td>0</td>\n",
       "      <td>4</td>\n",
       "      <td>0.0625</td>\n",
       "      <td>0</td>\n",
       "      <td>0</td>\n",
       "      <td>0</td>\n",
       "      <td>1</td>\n",
       "    </tr>\n",
       "    <tr>\n",
       "      <th>4</th>\n",
       "      <td>1</td>\n",
       "      <td>0.064592</td>\n",
       "      <td>0.929434</td>\n",
       "      <td>1</td>\n",
       "      <td>4</td>\n",
       "      <td>0.0625</td>\n",
       "      <td>1</td>\n",
       "      <td>0</td>\n",
       "      <td>0</td>\n",
       "      <td>0</td>\n",
       "    </tr>\n",
       "  </tbody>\n",
       "</table>\n",
       "</div>"
      ],
      "text/plain": [
       "   reordered  product_popularity_cnt  department_popularity_cnt  IsOrganic  \\\n",
       "0          1                0.024617                   0.929434          1   \n",
       "1          1                0.020455                   0.929434          1   \n",
       "2          1                0.115153                   0.929434          0   \n",
       "3          1                0.115153                   0.929434          0   \n",
       "4          1                0.064592                   0.929434          1   \n",
       "\n",
       "   days_previous_Group  Percentage_amount_product  order_HourGroup_18-24  \\\n",
       "0                    1                     0.0625                      1   \n",
       "1                    1                     0.1875                      0   \n",
       "2                    2                     0.2500                      0   \n",
       "3                    4                     0.0625                      0   \n",
       "4                    4                     0.0625                      1   \n",
       "\n",
       "   order_HourGroup_06-12  order_HourGroup_00-06  order_HourGroup_12-18  \n",
       "0                      0                      0                      0  \n",
       "1                      1                      0                      0  \n",
       "2                      0                      1                      0  \n",
       "3                      0                      0                      1  \n",
       "4                      0                      0                      0  "
      ]
     },
     "execution_count": 17,
     "metadata": {},
     "output_type": "execute_result"
    }
   ],
   "source": [
    "\n",
    "Xdev = X_dev.copy()\n",
    "Xdev = Xdev.drop(['Unnamed: 0'],axis=1)\n",
    "print(Xdev.shape)\n",
    "Xdev.head()"
   ]
  },
  {
   "cell_type": "code",
   "execution_count": 18,
   "metadata": {},
   "outputs": [
    {
     "name": "stdout",
     "output_type": "stream",
     "text": [
      "(3220100, 10)\n"
     ]
    },
    {
     "data": {
      "text/html": [
       "<div>\n",
       "<style scoped>\n",
       "    .dataframe tbody tr th:only-of-type {\n",
       "        vertical-align: middle;\n",
       "    }\n",
       "\n",
       "    .dataframe tbody tr th {\n",
       "        vertical-align: top;\n",
       "    }\n",
       "\n",
       "    .dataframe thead th {\n",
       "        text-align: right;\n",
       "    }\n",
       "</style>\n",
       "<table border=\"1\" class=\"dataframe\">\n",
       "  <thead>\n",
       "    <tr style=\"text-align: right;\">\n",
       "      <th></th>\n",
       "      <th>reordered</th>\n",
       "      <th>product_popularity_cnt</th>\n",
       "      <th>department_popularity_cnt</th>\n",
       "      <th>IsOrganic</th>\n",
       "      <th>days_previous_Group</th>\n",
       "      <th>Percentage_amount_product</th>\n",
       "      <th>order_HourGroup_12-18</th>\n",
       "      <th>order_HourGroup_18-24</th>\n",
       "      <th>order_HourGroup_06-12</th>\n",
       "      <th>order_HourGroup_00-06</th>\n",
       "    </tr>\n",
       "  </thead>\n",
       "  <tbody>\n",
       "    <tr>\n",
       "      <th>0</th>\n",
       "      <td>1</td>\n",
       "      <td>0.092567</td>\n",
       "      <td>0.929434</td>\n",
       "      <td>1</td>\n",
       "      <td>1</td>\n",
       "      <td>0.1250</td>\n",
       "      <td>1</td>\n",
       "      <td>0</td>\n",
       "      <td>0</td>\n",
       "      <td>0</td>\n",
       "    </tr>\n",
       "    <tr>\n",
       "      <th>1</th>\n",
       "      <td>0</td>\n",
       "      <td>0.019529</td>\n",
       "      <td>0.929434</td>\n",
       "      <td>0</td>\n",
       "      <td>4</td>\n",
       "      <td>0.3750</td>\n",
       "      <td>1</td>\n",
       "      <td>0</td>\n",
       "      <td>0</td>\n",
       "      <td>0</td>\n",
       "    </tr>\n",
       "    <tr>\n",
       "      <th>2</th>\n",
       "      <td>1</td>\n",
       "      <td>0.043180</td>\n",
       "      <td>0.929434</td>\n",
       "      <td>1</td>\n",
       "      <td>2</td>\n",
       "      <td>0.1875</td>\n",
       "      <td>1</td>\n",
       "      <td>0</td>\n",
       "      <td>0</td>\n",
       "      <td>0</td>\n",
       "    </tr>\n",
       "    <tr>\n",
       "      <th>3</th>\n",
       "      <td>0</td>\n",
       "      <td>0.017755</td>\n",
       "      <td>0.929434</td>\n",
       "      <td>1</td>\n",
       "      <td>4</td>\n",
       "      <td>0.4375</td>\n",
       "      <td>1</td>\n",
       "      <td>0</td>\n",
       "      <td>0</td>\n",
       "      <td>0</td>\n",
       "    </tr>\n",
       "    <tr>\n",
       "      <th>4</th>\n",
       "      <td>1</td>\n",
       "      <td>0.018518</td>\n",
       "      <td>0.051992</td>\n",
       "      <td>1</td>\n",
       "      <td>4</td>\n",
       "      <td>0.2500</td>\n",
       "      <td>1</td>\n",
       "      <td>0</td>\n",
       "      <td>0</td>\n",
       "      <td>0</td>\n",
       "    </tr>\n",
       "  </tbody>\n",
       "</table>\n",
       "</div>"
      ],
      "text/plain": [
       "   reordered  product_popularity_cnt  department_popularity_cnt  IsOrganic  \\\n",
       "0          1                0.092567                   0.929434          1   \n",
       "1          0                0.019529                   0.929434          0   \n",
       "2          1                0.043180                   0.929434          1   \n",
       "3          0                0.017755                   0.929434          1   \n",
       "4          1                0.018518                   0.051992          1   \n",
       "\n",
       "   days_previous_Group  Percentage_amount_product  order_HourGroup_12-18  \\\n",
       "0                    1                     0.1250                      1   \n",
       "1                    4                     0.3750                      1   \n",
       "2                    2                     0.1875                      1   \n",
       "3                    4                     0.4375                      1   \n",
       "4                    4                     0.2500                      1   \n",
       "\n",
       "   order_HourGroup_18-24  order_HourGroup_06-12  order_HourGroup_00-06  \n",
       "0                      0                      0                      0  \n",
       "1                      0                      0                      0  \n",
       "2                      0                      0                      0  \n",
       "3                      0                      0                      0  \n",
       "4                      0                      0                      0  "
      ]
     },
     "execution_count": 18,
     "metadata": {},
     "output_type": "execute_result"
    }
   ],
   "source": [
    "\n",
    "Xtrain = X_train.copy()\n",
    "Xtrain = Xtrain.drop(['Unnamed: 0'],axis=1)\n",
    "print(Xtrain.shape)\n",
    "Xtrain.head()"
   ]
  },
  {
   "cell_type": "code",
   "execution_count": 19,
   "metadata": {},
   "outputs": [
    {
     "name": "stdout",
     "output_type": "stream",
     "text": [
      "(402512, 10)\n"
     ]
    },
    {
     "data": {
      "text/html": [
       "<div>\n",
       "<style scoped>\n",
       "    .dataframe tbody tr th:only-of-type {\n",
       "        vertical-align: middle;\n",
       "    }\n",
       "\n",
       "    .dataframe tbody tr th {\n",
       "        vertical-align: top;\n",
       "    }\n",
       "\n",
       "    .dataframe thead th {\n",
       "        text-align: right;\n",
       "    }\n",
       "</style>\n",
       "<table border=\"1\" class=\"dataframe\">\n",
       "  <thead>\n",
       "    <tr style=\"text-align: right;\">\n",
       "      <th></th>\n",
       "      <th>reordered</th>\n",
       "      <th>product_popularity_cnt</th>\n",
       "      <th>department_popularity_cnt</th>\n",
       "      <th>IsOrganic</th>\n",
       "      <th>days_previous_Group</th>\n",
       "      <th>Percentage_amount_product</th>\n",
       "      <th>order_HourGroup_06-12</th>\n",
       "      <th>order_HourGroup_12-18</th>\n",
       "      <th>order_HourGroup_18-24</th>\n",
       "      <th>order_HourGroup_00-06</th>\n",
       "    </tr>\n",
       "  </thead>\n",
       "  <tbody>\n",
       "    <tr>\n",
       "      <th>0</th>\n",
       "      <td>0</td>\n",
       "      <td>0.058997</td>\n",
       "      <td>0.929434</td>\n",
       "      <td>1</td>\n",
       "      <td>3</td>\n",
       "      <td>0.0625</td>\n",
       "      <td>1</td>\n",
       "      <td>0</td>\n",
       "      <td>0</td>\n",
       "      <td>0</td>\n",
       "    </tr>\n",
       "    <tr>\n",
       "      <th>1</th>\n",
       "      <td>1</td>\n",
       "      <td>0.017755</td>\n",
       "      <td>0.929434</td>\n",
       "      <td>1</td>\n",
       "      <td>2</td>\n",
       "      <td>0.1875</td>\n",
       "      <td>1</td>\n",
       "      <td>0</td>\n",
       "      <td>0</td>\n",
       "      <td>0</td>\n",
       "    </tr>\n",
       "    <tr>\n",
       "      <th>2</th>\n",
       "      <td>0</td>\n",
       "      <td>0.035028</td>\n",
       "      <td>0.929434</td>\n",
       "      <td>0</td>\n",
       "      <td>4</td>\n",
       "      <td>0.1875</td>\n",
       "      <td>0</td>\n",
       "      <td>1</td>\n",
       "      <td>0</td>\n",
       "      <td>0</td>\n",
       "    </tr>\n",
       "    <tr>\n",
       "      <th>3</th>\n",
       "      <td>1</td>\n",
       "      <td>0.037687</td>\n",
       "      <td>0.929434</td>\n",
       "      <td>0</td>\n",
       "      <td>1</td>\n",
       "      <td>0.2500</td>\n",
       "      <td>0</td>\n",
       "      <td>1</td>\n",
       "      <td>0</td>\n",
       "      <td>0</td>\n",
       "    </tr>\n",
       "    <tr>\n",
       "      <th>4</th>\n",
       "      <td>0</td>\n",
       "      <td>0.020333</td>\n",
       "      <td>0.929434</td>\n",
       "      <td>0</td>\n",
       "      <td>1</td>\n",
       "      <td>0.2500</td>\n",
       "      <td>0</td>\n",
       "      <td>1</td>\n",
       "      <td>0</td>\n",
       "      <td>0</td>\n",
       "    </tr>\n",
       "  </tbody>\n",
       "</table>\n",
       "</div>"
      ],
      "text/plain": [
       "   reordered  product_popularity_cnt  department_popularity_cnt  IsOrganic  \\\n",
       "0          0                0.058997                   0.929434          1   \n",
       "1          1                0.017755                   0.929434          1   \n",
       "2          0                0.035028                   0.929434          0   \n",
       "3          1                0.037687                   0.929434          0   \n",
       "4          0                0.020333                   0.929434          0   \n",
       "\n",
       "   days_previous_Group  Percentage_amount_product  order_HourGroup_06-12  \\\n",
       "0                    3                     0.0625                      1   \n",
       "1                    2                     0.1875                      1   \n",
       "2                    4                     0.1875                      0   \n",
       "3                    1                     0.2500                      0   \n",
       "4                    1                     0.2500                      0   \n",
       "\n",
       "   order_HourGroup_12-18  order_HourGroup_18-24  order_HourGroup_00-06  \n",
       "0                      0                      0                      0  \n",
       "1                      0                      0                      0  \n",
       "2                      1                      0                      0  \n",
       "3                      1                      0                      0  \n",
       "4                      1                      0                      0  "
      ]
     },
     "execution_count": 19,
     "metadata": {},
     "output_type": "execute_result"
    }
   ],
   "source": [
    "\n",
    "Xtest = X_test.copy()\n",
    "Xtest = Xtest.drop(['Unnamed: 0'],axis=1)\n",
    "print(Xtest.shape)\n",
    "Xtest.head()"
   ]
  },
  {
   "cell_type": "code",
   "execution_count": 19,
   "metadata": {},
   "outputs": [],
   "source": [
    "# initialize label powerset multi-label classifier\n",
    "classifier = LabelPowerset(LogisticRegression())\n"
   ]
  },
  {
   "cell_type": "code",
   "execution_count": 20,
   "metadata": {},
   "outputs": [],
   "source": [
    "### We will create a table for comparing the results\n",
    "#res = pd.DataFrame(columns=['model','accuracy', 'error'])\n",
    "res = []"
   ]
  },
  {
   "cell_type": "markdown",
   "metadata": {},
   "source": [
    "# sklearn.tree.DecisionTreeClassifier"
   ]
  },
  {
   "cell_type": "code",
   "execution_count": 21,
   "metadata": {},
   "outputs": [],
   "source": [
    "from sklearn.model_selection import cross_val_score\n",
    "from sklearn.tree import DecisionTreeClassifier"
   ]
  },
  {
   "cell_type": "code",
   "execution_count": 24,
   "metadata": {},
   "outputs": [],
   "source": [
    "\n",
    "mod_DecisionTree = LabelPowerset(DecisionTreeClassifier())\n"
   ]
  },
  {
   "cell_type": "code",
   "execution_count": 25,
   "metadata": {},
   "outputs": [
    {
     "data": {
      "text/plain": [
       "LabelPowerset(classifier=DecisionTreeClassifier(class_weight=None, criterion='gini', max_depth=None,\n",
       "            max_features=None, max_leaf_nodes=None,\n",
       "            min_impurity_decrease=0.0, min_impurity_split=None,\n",
       "            min_samples_leaf=1, min_samples_split=2,\n",
       "            min_weight_fraction_leaf=0.0, presort=False, random_state=None,\n",
       "            splitter='best'),\n",
       "       require_dense=[True, True])"
      ]
     },
     "execution_count": 25,
     "metadata": {},
     "output_type": "execute_result"
    }
   ],
   "source": [
    "mod_DecisionTree.fit(Xtrain,ytrain)"
   ]
  },
  {
   "cell_type": "code",
   "execution_count": 26,
   "metadata": {},
   "outputs": [],
   "source": [
    "# Make predictions \n",
    "pred_DecisionTree_test = mod_DecisionTree.predict(Xtest)"
   ]
  },
  {
   "cell_type": "code",
   "execution_count": 27,
   "metadata": {},
   "outputs": [
    {
     "name": "stdout",
     "output_type": "stream",
     "text": [
      "<class 'scipy.sparse.lil.lil_matrix'>\n",
      "(402512, 30)\n"
     ]
    }
   ],
   "source": [
    "print(type(pred_DecisionTree_test))\n",
    "print(pred_DecisionTree_test.shape)"
   ]
  },
  {
   "cell_type": "code",
   "execution_count": 28,
   "metadata": {},
   "outputs": [
    {
     "data": {
      "text/plain": [
       "array([[0, 0, 0, ..., 0, 0, 0],\n",
       "       [0, 0, 0, ..., 0, 0, 0],\n",
       "       [0, 0, 0, ..., 0, 0, 0],\n",
       "       ...,\n",
       "       [0, 0, 0, ..., 0, 0, 0],\n",
       "       [0, 0, 0, ..., 0, 0, 0],\n",
       "       [0, 0, 0, ..., 0, 0, 0]], dtype=int64)"
      ]
     },
     "execution_count": 28,
     "metadata": {},
     "output_type": "execute_result"
    }
   ],
   "source": [
    "pred_DecisionTree_test2 = np.array(pred_DecisionTree_test.todense())\n",
    "pred_DecisionTree_test2"
   ]
  },
  {
   "cell_type": "code",
   "execution_count": 29,
   "metadata": {},
   "outputs": [
    {
     "name": "stdout",
     "output_type": "stream",
     "text": [
      "[ 7101  8319  8660  8310 37795 14156  7359 25711  7126 23446 11043 46136\n",
      " 10831 13985 13372 13683  8774  7963  7338  9714  8270  7550  7591 10473\n",
      "  7798 20859 15391 16824  7622  9312]\n",
      "(402512, 30)\n"
     ]
    }
   ],
   "source": [
    "#print(np.sum(pred2,axis=1))\n",
    "print(np.sum(pred_DecisionTree_test2,axis=0))\n",
    "print(pred_DecisionTree_test2.shape)"
   ]
  },
  {
   "cell_type": "code",
   "execution_count": 31,
   "metadata": {},
   "outputs": [
    {
     "data": {
      "text/plain": [
       "1.0"
      ]
     },
     "execution_count": 31,
     "metadata": {},
     "output_type": "execute_result"
    }
   ],
   "source": [
    "ham=hamming_score(ytest, pred_DecisionTree_test2)\n",
    "ham"
   ]
  },
  {
   "cell_type": "code",
   "execution_count": 32,
   "metadata": {},
   "outputs": [
    {
     "data": {
      "text/plain": [
       "[{'model': 'Decision Tree Classifier ', 'accuracy': 1.0}]"
      ]
     },
     "execution_count": 32,
     "metadata": {},
     "output_type": "execute_result"
    }
   ],
   "source": [
    "res.append({'model':'Decision Tree Classifier ','accuracy':ham})\n",
    "res"
   ]
  },
  {
   "cell_type": "markdown",
   "metadata": {},
   "source": [
    "# sklearn.tree.ExtraTreeClassifier"
   ]
  },
  {
   "cell_type": "code",
   "execution_count": 33,
   "metadata": {},
   "outputs": [],
   "source": [
    "from sklearn.tree import ExtraTreeClassifier"
   ]
  },
  {
   "cell_type": "code",
   "execution_count": 34,
   "metadata": {},
   "outputs": [],
   "source": [
    "mod_ExtraTree = LabelPowerset(ExtraTreeClassifier())"
   ]
  },
  {
   "cell_type": "code",
   "execution_count": 35,
   "metadata": {},
   "outputs": [
    {
     "data": {
      "text/plain": [
       "LabelPowerset(classifier=ExtraTreeClassifier(class_weight=None, criterion='gini', max_depth=None,\n",
       "          max_features='auto', max_leaf_nodes=None,\n",
       "          min_impurity_decrease=0.0, min_impurity_split=None,\n",
       "          min_samples_leaf=1, min_samples_split=2,\n",
       "          min_weight_fraction_leaf=0.0, random_state=None,\n",
       "          splitter='random'),\n",
       "       require_dense=[True, True])"
      ]
     },
     "execution_count": 35,
     "metadata": {},
     "output_type": "execute_result"
    }
   ],
   "source": [
    "mod_ExtraTree.fit(Xtrain,ytrain)"
   ]
  },
  {
   "cell_type": "code",
   "execution_count": 36,
   "metadata": {},
   "outputs": [],
   "source": [
    "# Make predictions \n",
    "pred_ExtraTree_test = mod_ExtraTree.predict(Xtest)"
   ]
  },
  {
   "cell_type": "code",
   "execution_count": 37,
   "metadata": {},
   "outputs": [
    {
     "name": "stdout",
     "output_type": "stream",
     "text": [
      "<class 'scipy.sparse.lil.lil_matrix'>\n",
      "(402512, 30)\n"
     ]
    }
   ],
   "source": [
    "print(type(pred_ExtraTree_test))\n",
    "print(pred_ExtraTree_test.shape)"
   ]
  },
  {
   "cell_type": "code",
   "execution_count": 39,
   "metadata": {},
   "outputs": [
    {
     "data": {
      "text/plain": [
       "array([[0, 0, 0, ..., 0, 0, 0],\n",
       "       [0, 0, 0, ..., 0, 0, 0],\n",
       "       [0, 0, 0, ..., 0, 0, 0],\n",
       "       ...,\n",
       "       [0, 0, 0, ..., 0, 0, 0],\n",
       "       [0, 0, 0, ..., 0, 0, 0],\n",
       "       [0, 0, 0, ..., 0, 0, 0]], dtype=int64)"
      ]
     },
     "execution_count": 39,
     "metadata": {},
     "output_type": "execute_result"
    }
   ],
   "source": [
    "pred_ExtraTree_test2 = np.array(pred_ExtraTree_test.todense())\n",
    "pred_ExtraTree_test2"
   ]
  },
  {
   "cell_type": "code",
   "execution_count": 40,
   "metadata": {},
   "outputs": [
    {
     "name": "stdout",
     "output_type": "stream",
     "text": [
      "[ 7101  8319  8662  8311 37795 14156  7360 25710  7127 23447 11044 46136\n",
      " 10830 13985 13372 13683  8774  7957  7336  9713  8272  7551  7590 10474\n",
      "  7798 20859 15391 16824  7622  9313]\n",
      "(402512, 30)\n"
     ]
    }
   ],
   "source": [
    "#print(np.sum(pred2,axis=1))\n",
    "print(np.sum(pred_ExtraTree_test2,axis=0))\n",
    "print(pred_ExtraTree_test2.shape)"
   ]
  },
  {
   "cell_type": "code",
   "execution_count": 41,
   "metadata": {},
   "outputs": [
    {
     "data": {
      "text/plain": [
       "0.9999279524585603"
      ]
     },
     "execution_count": 41,
     "metadata": {},
     "output_type": "execute_result"
    }
   ],
   "source": [
    "ham=hamming_score(ytest,pred_ExtraTree_test2)\n",
    "ham"
   ]
  },
  {
   "cell_type": "code",
   "execution_count": 42,
   "metadata": {},
   "outputs": [
    {
     "data": {
      "text/plain": [
       "[{'model': 'Decision Tree Classifier ', 'accuracy': 1.0},\n",
       " {'model': 'Decision Tree Classifier ', 'accuracy': 0.9999279524585603}]"
      ]
     },
     "execution_count": 42,
     "metadata": {},
     "output_type": "execute_result"
    }
   ],
   "source": [
    "res.append({'model':'Decision Tree Classifier ','accuracy':ham})\n",
    "res"
   ]
  },
  {
   "cell_type": "markdown",
   "metadata": {},
   "source": [
    "# sklearn.ensemble.ExtraTreesClassifier"
   ]
  },
  {
   "cell_type": "code",
   "execution_count": 43,
   "metadata": {},
   "outputs": [
    {
     "name": "stderr",
     "output_type": "stream",
     "text": [
      "C:\\Users\\malmagor\\AppData\\Local\\Continuum\\anaconda3\\lib\\site-packages\\sklearn\\ensemble\\weight_boosting.py:29: DeprecationWarning: numpy.core.umath_tests is an internal NumPy module and should not be imported. It will be removed in a future NumPy release.\n",
      "  from numpy.core.umath_tests import inner1d\n"
     ]
    }
   ],
   "source": [
    "from sklearn.ensemble import ExtraTreesClassifier"
   ]
  },
  {
   "cell_type": "code",
   "execution_count": 44,
   "metadata": {},
   "outputs": [],
   "source": [
    "mod_ensemble_ExtraTree = LabelPowerset(ExtraTreeClassifier())"
   ]
  },
  {
   "cell_type": "code",
   "execution_count": 45,
   "metadata": {},
   "outputs": [
    {
     "data": {
      "text/plain": [
       "LabelPowerset(classifier=ExtraTreeClassifier(class_weight=None, criterion='gini', max_depth=None,\n",
       "          max_features='auto', max_leaf_nodes=None,\n",
       "          min_impurity_decrease=0.0, min_impurity_split=None,\n",
       "          min_samples_leaf=1, min_samples_split=2,\n",
       "          min_weight_fraction_leaf=0.0, random_state=None,\n",
       "          splitter='random'),\n",
       "       require_dense=[True, True])"
      ]
     },
     "execution_count": 45,
     "metadata": {},
     "output_type": "execute_result"
    }
   ],
   "source": [
    "mod_ensemble_ExtraTree.fit(Xtrain,ytrain)"
   ]
  },
  {
   "cell_type": "code",
   "execution_count": 46,
   "metadata": {},
   "outputs": [],
   "source": [
    "# predict\n",
    "pred_ensemble_ExtraTree_test = mod_ensemble_ExtraTree.predict(Xtest)"
   ]
  },
  {
   "cell_type": "code",
   "execution_count": 47,
   "metadata": {},
   "outputs": [
    {
     "name": "stdout",
     "output_type": "stream",
     "text": [
      "<class 'scipy.sparse.lil.lil_matrix'>\n",
      "(402512, 30)\n"
     ]
    }
   ],
   "source": [
    "print(type(pred_ensemble_ExtraTree_test))\n",
    "print(pred_ensemble_ExtraTree_test.shape)"
   ]
  },
  {
   "cell_type": "code",
   "execution_count": 48,
   "metadata": {},
   "outputs": [
    {
     "data": {
      "text/plain": [
       "array([[0, 0, 0, ..., 0, 0, 0],\n",
       "       [0, 0, 0, ..., 0, 0, 0],\n",
       "       [0, 0, 0, ..., 0, 0, 0],\n",
       "       ...,\n",
       "       [0, 0, 0, ..., 0, 0, 0],\n",
       "       [0, 0, 0, ..., 0, 0, 0],\n",
       "       [0, 0, 0, ..., 0, 0, 0]], dtype=int64)"
      ]
     },
     "execution_count": 48,
     "metadata": {},
     "output_type": "execute_result"
    }
   ],
   "source": [
    "pred_ensemble_ExtraTree_test2 = np.array(pred_ensemble_ExtraTree_test.todense())\n",
    "pred_ensemble_ExtraTree_test2"
   ]
  },
  {
   "cell_type": "code",
   "execution_count": 49,
   "metadata": {},
   "outputs": [
    {
     "name": "stdout",
     "output_type": "stream",
     "text": [
      "[ 7101  8320  8661  8310 37795 14157  7364 25711  7127 23446 11042 46136\n",
      " 10831 13986 13376 13682  8774  7957  7333  9714  8273  7551  7591 10474\n",
      "  7798 20859 15389 16825  7618  9311]\n",
      "(402512, 30)\n"
     ]
    }
   ],
   "source": [
    "\n",
    "print(np.sum(pred_ensemble_ExtraTree_test2,axis=0))\n",
    "print(pred_ensemble_ExtraTree_test2.shape)"
   ]
  },
  {
   "cell_type": "code",
   "execution_count": 50,
   "metadata": {},
   "outputs": [
    {
     "data": {
      "text/plain": [
       "0.9999006240807727"
      ]
     },
     "execution_count": 50,
     "metadata": {},
     "output_type": "execute_result"
    }
   ],
   "source": [
    "ham=hamming_score(ytest,pred_ensemble_ExtraTree_test2)\n",
    "ham"
   ]
  },
  {
   "cell_type": "code",
   "execution_count": 51,
   "metadata": {},
   "outputs": [
    {
     "data": {
      "text/plain": [
       "[{'model': 'Decision Tree Classifier ', 'accuracy': 1.0},\n",
       " {'model': 'Decision Tree Classifier ', 'accuracy': 0.9999279524585603},\n",
       " {'model': 'ensemble-Decision Tree Classifier ',\n",
       "  'accuracy': 0.9999006240807727}]"
      ]
     },
     "execution_count": 51,
     "metadata": {},
     "output_type": "execute_result"
    }
   ],
   "source": [
    "res.append({'model':'ensemble-Decision Tree Classifier ','accuracy':ham})\n",
    "res"
   ]
  },
  {
   "cell_type": "markdown",
   "metadata": {},
   "source": [
    "# sklearn.ensemble.RandomForestClassifier"
   ]
  },
  {
   "cell_type": "code",
   "execution_count": 52,
   "metadata": {},
   "outputs": [],
   "source": [
    "from sklearn.ensemble import RandomForestClassifier\n"
   ]
  },
  {
   "cell_type": "code",
   "execution_count": 53,
   "metadata": {},
   "outputs": [],
   "source": [
    "# initialize label powerset multi-label classifier\n",
    "mod_RandomForest = LabelPowerset(RandomForestClassifier())"
   ]
  },
  {
   "cell_type": "code",
   "execution_count": 54,
   "metadata": {},
   "outputs": [
    {
     "data": {
      "text/plain": [
       "LabelPowerset(classifier=RandomForestClassifier(bootstrap=True, class_weight=None, criterion='gini',\n",
       "            max_depth=None, max_features='auto', max_leaf_nodes=None,\n",
       "            min_impurity_decrease=0.0, min_impurity_split=None,\n",
       "            min_samples_leaf=1, min_samples_split=2,\n",
       "            min_weight_fraction_leaf=0.0, n_estimators=10, n_jobs=1,\n",
       "            oob_score=False, random_state=None, verbose=0,\n",
       "            warm_start=False),\n",
       "       require_dense=[True, True])"
      ]
     },
     "execution_count": 54,
     "metadata": {},
     "output_type": "execute_result"
    }
   ],
   "source": [
    "mod_RandomForest.fit(Xtrain,ytrain)"
   ]
  },
  {
   "cell_type": "code",
   "execution_count": 55,
   "metadata": {},
   "outputs": [],
   "source": [
    "# predict\n",
    "pred_RandomForest_test = mod_RandomForest.predict(Xtest)"
   ]
  },
  {
   "cell_type": "code",
   "execution_count": 56,
   "metadata": {},
   "outputs": [
    {
     "name": "stdout",
     "output_type": "stream",
     "text": [
      "<class 'scipy.sparse.lil.lil_matrix'>\n",
      "(402512, 30)\n"
     ]
    }
   ],
   "source": [
    "print(type(pred_RandomForest_test))\n",
    "print(pred_RandomForest_test.shape)"
   ]
  },
  {
   "cell_type": "code",
   "execution_count": 58,
   "metadata": {},
   "outputs": [
    {
     "data": {
      "text/plain": [
       "array([[0, 0, 0, ..., 0, 0, 0],\n",
       "       [0, 0, 0, ..., 0, 0, 0],\n",
       "       [0, 0, 0, ..., 0, 0, 0],\n",
       "       ...,\n",
       "       [0, 0, 0, ..., 0, 0, 0],\n",
       "       [0, 0, 0, ..., 0, 0, 0],\n",
       "       [0, 0, 0, ..., 0, 0, 0]], dtype=int64)"
      ]
     },
     "execution_count": 58,
     "metadata": {},
     "output_type": "execute_result"
    }
   ],
   "source": [
    "pred_RandomForest_test2 = np.array(pred_RandomForest_test.todense())\n",
    "pred_RandomForest_test2"
   ]
  },
  {
   "cell_type": "code",
   "execution_count": 59,
   "metadata": {},
   "outputs": [
    {
     "name": "stdout",
     "output_type": "stream",
     "text": [
      "[ 7101  8320  8661  8310 37795 14157  7364 25711  7127 23446 11042 46136\n",
      " 10831 13986 13376 13682  8774  7957  7333  9714  8273  7551  7591 10474\n",
      "  7798 20859 15389 16825  7618  9311]\n",
      "(402512, 30)\n"
     ]
    }
   ],
   "source": [
    "print(np.sum(pred_ensemble_ExtraTree_test2,axis=0))\n",
    "print(pred_ensemble_ExtraTree_test2.shape)"
   ]
  },
  {
   "cell_type": "code",
   "execution_count": 60,
   "metadata": {},
   "outputs": [
    {
     "data": {
      "text/plain": [
       "0.9999006240807727"
      ]
     },
     "execution_count": 60,
     "metadata": {},
     "output_type": "execute_result"
    }
   ],
   "source": [
    "ham=hamming_score(ytest,pred_ensemble_ExtraTree_test2)\n",
    "ham"
   ]
  },
  {
   "cell_type": "code",
   "execution_count": 61,
   "metadata": {},
   "outputs": [
    {
     "data": {
      "text/plain": [
       "[{'model': 'Decision Tree Classifier ', 'accuracy': 1.0},\n",
       " {'model': 'Decision Tree Classifier ', 'accuracy': 0.9999279524585603},\n",
       " {'model': 'ensemble-Decision Tree Classifier ',\n",
       "  'accuracy': 0.9999006240807727},\n",
       " {'model': 'Random Forest ', 'accuracy': 0.9999006240807727}]"
      ]
     },
     "execution_count": 61,
     "metadata": {},
     "output_type": "execute_result"
    }
   ],
   "source": [
    "res.append({'model':'Random Forest ','accuracy':ham})\n",
    "res"
   ]
  },
  {
   "cell_type": "markdown",
   "metadata": {},
   "source": [
    "# sklearn.neighbors.KNeighborsClassifier"
   ]
  },
  {
   "cell_type": "code",
   "execution_count": 62,
   "metadata": {},
   "outputs": [],
   "source": [
    "from sklearn.neighbors import KNeighborsClassifier"
   ]
  },
  {
   "cell_type": "code",
   "execution_count": 63,
   "metadata": {},
   "outputs": [],
   "source": [
    "# initialize label powerset multi-label classifier\n",
    "mod_KNeighbors = LabelPowerset(KNeighborsClassifier(n_neighbors=3))"
   ]
  },
  {
   "cell_type": "code",
   "execution_count": 64,
   "metadata": {},
   "outputs": [
    {
     "data": {
      "text/plain": [
       "LabelPowerset(classifier=KNeighborsClassifier(algorithm='auto', leaf_size=30, metric='minkowski',\n",
       "           metric_params=None, n_jobs=1, n_neighbors=3, p=2,\n",
       "           weights='uniform'),\n",
       "       require_dense=[True, True])"
      ]
     },
     "execution_count": 64,
     "metadata": {},
     "output_type": "execute_result"
    }
   ],
   "source": [
    "mod_KNeighbors.fit(Xtrain,ytrain)"
   ]
  },
  {
   "cell_type": "code",
   "execution_count": 65,
   "metadata": {},
   "outputs": [],
   "source": [
    "# predict\n",
    "pred_KNeighbors_test = mod_KNeighbors.predict(Xtest)"
   ]
  },
  {
   "cell_type": "code",
   "execution_count": 66,
   "metadata": {},
   "outputs": [
    {
     "name": "stdout",
     "output_type": "stream",
     "text": [
      "<class 'scipy.sparse.lil.lil_matrix'>\n",
      "(402512, 30)\n"
     ]
    }
   ],
   "source": [
    "print(type(pred_KNeighbors_test))\n",
    "print(pred_KNeighbors_test.shape)"
   ]
  },
  {
   "cell_type": "code",
   "execution_count": 67,
   "metadata": {},
   "outputs": [
    {
     "data": {
      "text/plain": [
       "array([[0, 0, 0, ..., 0, 0, 0],\n",
       "       [0, 0, 0, ..., 0, 0, 0],\n",
       "       [0, 0, 0, ..., 0, 0, 0],\n",
       "       ...,\n",
       "       [0, 0, 0, ..., 0, 0, 0],\n",
       "       [0, 0, 0, ..., 0, 0, 0],\n",
       "       [0, 0, 0, ..., 0, 0, 0]], dtype=int64)"
      ]
     },
     "execution_count": 67,
     "metadata": {},
     "output_type": "execute_result"
    }
   ],
   "source": [
    "pred_KNeighbors_test2 = np.array(pred_KNeighbors_test.todense())\n",
    "pred_KNeighbors_test2"
   ]
  },
  {
   "cell_type": "code",
   "execution_count": 68,
   "metadata": {},
   "outputs": [
    {
     "name": "stdout",
     "output_type": "stream",
     "text": [
      "[ 7103  8319  8663  8331 37796 14157  7353 25708  7141 23447 11040 46136\n",
      " 10841 13991 13379 13675  8768  7950  7336  9710  8270  7543  7591 10478\n",
      "  7808 20861 15380 16818  7615  9304]\n",
      "(402512, 30)\n"
     ]
    }
   ],
   "source": [
    "print(np.sum(pred_KNeighbors_test2,axis=0))\n",
    "print(pred_KNeighbors_test2.shape)"
   ]
  },
  {
   "cell_type": "code",
   "execution_count": 69,
   "metadata": {},
   "outputs": [
    {
     "data": {
      "text/plain": [
       "0.9994236196684819"
      ]
     },
     "execution_count": 69,
     "metadata": {},
     "output_type": "execute_result"
    }
   ],
   "source": [
    "ham=hamming_score(ytest,pred_KNeighbors_test2)\n",
    "ham"
   ]
  }
 ],
 "metadata": {
  "kernelspec": {
   "display_name": "Python 3",
   "language": "python",
   "name": "python3"
  },
  "language_info": {
   "codemirror_mode": {
    "name": "ipython",
    "version": 3
   },
   "file_extension": ".py",
   "mimetype": "text/x-python",
   "name": "python",
   "nbconvert_exporter": "python",
   "pygments_lexer": "ipython3",
   "version": "3.7.1"
  }
 },
 "nbformat": 4,
 "nbformat_minor": 2
}
