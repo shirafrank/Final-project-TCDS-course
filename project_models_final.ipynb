{
 "cells": [
  {
   "cell_type": "code",
   "execution_count": 28,
   "metadata": {},
   "outputs": [],
   "source": [
    "import numpy as np\n",
    "import pandas as pd\n",
    "import matplotlib.pyplot as plt\n",
    "import seaborn as sn\n",
    "from sklearn.metrics import mean_squared_error"
   ]
  },
  {
   "cell_type": "code",
   "execution_count": 29,
   "metadata": {},
   "outputs": [],
   "source": [
    "X_train = pd.read_csv(r\"C:\\Users\\malmagor\\Desktop\\פרויקט גמר לימודים\\סופי\\X_train_27022019.csv\")\n",
    "y_train = pd.read_csv(r\"C:\\Users\\malmagor\\Desktop\\פרויקט גמר לימודים\\סופי\\y_train_27022019.csv\")\n",
    "X_dev = pd.read_csv(r\"C:\\Users\\malmagor\\Desktop\\פרויקט גמר לימודים\\סופי\\X_dev_27022019.csv\")\n",
    "y_dev = pd.read_csv(r\"C:\\Users\\malmagor\\Desktop\\פרויקט גמר לימודים\\סופי\\y_dev_27022019.csv\")\n",
    "X_test = pd.read_csv(r\"C:\\Users\\malmagor\\Desktop\\פרויקט גמר לימודים\\סופי\\X_test_27022019.csv\")\n",
    "y_test = pd.read_csv(r\"C:\\Users\\malmagor\\Desktop\\פרויקט גמר לימודים\\סופי\\y_test_27022019.csv\")\n"
   ]
  },
  {
   "cell_type": "code",
   "execution_count": 30,
   "metadata": {},
   "outputs": [],
   "source": [
    "X_dev['IsOrganic'] = X_dev['IsOrganic'].astype('int')"
   ]
  },
  {
   "cell_type": "code",
   "execution_count": 31,
   "metadata": {},
   "outputs": [],
   "source": [
    "X_train['IsOrganic'] = X_train['IsOrganic'].astype('int')"
   ]
  },
  {
   "cell_type": "code",
   "execution_count": 32,
   "metadata": {},
   "outputs": [],
   "source": [
    "X_test['IsOrganic'] = X_test['IsOrganic'].astype('int')"
   ]
  },
  {
   "cell_type": "code",
   "execution_count": 33,
   "metadata": {},
   "outputs": [],
   "source": [
    "X_dev['order_HourGroup'] =X_dev['order_HourGroup'].astype('category')\n"
   ]
  },
  {
   "cell_type": "code",
   "execution_count": 34,
   "metadata": {},
   "outputs": [],
   "source": [
    "X_train['order_HourGroup'] =X_train['order_HourGroup'].astype('category')"
   ]
  },
  {
   "cell_type": "code",
   "execution_count": 35,
   "metadata": {},
   "outputs": [],
   "source": [
    "X_test['order_HourGroup'] =X_test['order_HourGroup'].astype('category')"
   ]
  },
  {
   "cell_type": "code",
   "execution_count": 36,
   "metadata": {},
   "outputs": [],
   "source": [
    "def one_hot_encoding(data,var,drop=True):\n",
    "    #res = []\n",
    "    #nm = data[var].name\n",
    "    nn = data[var].unique()\n",
    "    for i in nn:\n",
    "        s = '%s_%s' % (var,i)\n",
    "        data[s] = 0\n",
    "        data.loc[data[var]==i,s] = 1\n",
    "        #res.append(newx)\n",
    "    if(drop==True):\n",
    "        data = data.drop(var,axis=1)\n",
    "    return(data)"
   ]
  },
  {
   "cell_type": "code",
   "execution_count": 37,
   "metadata": {},
   "outputs": [],
   "source": [
    "X_train = one_hot_encoding(X_train,'order_HourGroup')\n",
    "\n",
    "X_dev = one_hot_encoding(X_dev,'order_HourGroup')\n",
    "\n",
    "X_test = one_hot_encoding(X_test,'order_HourGroup')\n"
   ]
  },
  {
   "cell_type": "markdown",
   "metadata": {},
   "source": [
    "# The following function calculates the Hamming score that calculates the multilabel accuracy. "
   ]
  },
  {
   "cell_type": "code",
   "execution_count": 38,
   "metadata": {},
   "outputs": [],
   "source": [
    "def hamming_score(y_true, y_pred, normalize=True, sample_weight=None):\n",
    "    '''\n",
    "    Compute the Hamming score (a.k.a. label-based accuracy) for the multi-label case\n",
    "    https://stackoverflow.com/q/32239577/395857\n",
    "    '''\n",
    "    acc_list = []\n",
    "    for i in range(y_true.shape[0]):\n",
    "        set_true = set( np.where(y_true[i])[0] )\n",
    "        set_pred = set( np.where(y_pred[i])[0] )\n",
    "        #print('\\nset_true: {0}'.format(set_true))\n",
    "        #print('set_pred: {0}'.format(set_pred))\n",
    "        tmp_a = None\n",
    "        if len(set_true) == 0 and len(set_pred) == 0:\n",
    "            tmp_a = 1\n",
    "        else:\n",
    "            tmp_a = len(set_true.intersection(set_pred))/\\\n",
    "                    float( len(set_true.union(set_pred)) )\n",
    "        #print('tmp_a: {0}'.format(tmp_a))\n",
    "        acc_list.append(tmp_a)\n",
    "    return np.mean(acc_list)\n",
    "\n"
   ]
  },
  {
   "cell_type": "markdown",
   "metadata": {},
   "source": [
    "##  Which models could be ran for multilable outcomes?\n",
    " \n",
    "Following the recommendations of sklearn (https://scikit-learn.org/stable/modules/multiclass.html) the following models accept multilabel outcomes:\n",
    " \n",
    "Support multilabel:\n",
    "- sklearn.linear_model.RidgeClassifierCV\n",
    "- sklearn.tree.DecisionTreeClassifier\n",
    "- sklearn.tree.ExtraTreeClassifier\n",
    "- sklearn.ensemble.ExtraTreesClassifier\n",
    "- sklearn.ensemble.RandomForestClassifier\n",
    "- sklearn.neighbors.KNeighborsClassifier\n",
    "- sklearn.neighbors.RadiusNeighborsClassifier\n",
    " \n",
    "Also, there is a technique called label powerset (in skmultilearn) that is able to take possible correlations between class labels into account."
   ]
  },
  {
   "cell_type": "code",
   "execution_count": 39,
   "metadata": {},
   "outputs": [],
   "source": [
    "#import sys\n",
    "#!{sys.executable} -m pip install scikit-multilearn"
   ]
  },
  {
   "cell_type": "code",
   "execution_count": 40,
   "metadata": {},
   "outputs": [],
   "source": [
    "# using Label Powerset\n",
    "from skmultilearn.problem_transform import LabelPowerset\n",
    "from sklearn.linear_model import LogisticRegression\n"
   ]
  },
  {
   "cell_type": "markdown",
   "metadata": {},
   "source": [
    "## THIS IS THE PART THAT YOU MISS... THE MULTILEVEL-Y HAS TO BE TRANSFORMED INTO A NUMPY ARRAY (WITHOUT THE PRODUCT CODE)..."
   ]
  },
  {
   "cell_type": "code",
   "execution_count": 41,
   "metadata": {},
   "outputs": [
    {
     "name": "stdout",
     "output_type": "stream",
     "text": [
      "(402512, 30)\n",
      "[[0 0 0 ... 0 0 0]\n",
      " [0 0 0 ... 0 0 0]\n",
      " [0 0 0 ... 0 0 0]\n",
      " ...\n",
      " [0 0 0 ... 0 0 0]\n",
      " [0 0 0 ... 0 0 0]\n",
      " [0 0 0 ... 0 0 0]]\n"
     ]
    }
   ],
   "source": [
    "y_dev.head()\n",
    "ydev = y_dev.copy()\n",
    "ydev = np.array(ydev)\n",
    "ydev = np.delete(ydev, 0, 1) \n",
    "print(ydev.shape)\n",
    "print(ydev)"
   ]
  },
  {
   "cell_type": "code",
   "execution_count": 42,
   "metadata": {},
   "outputs": [
    {
     "name": "stdout",
     "output_type": "stream",
     "text": [
      "(402512, 30)\n",
      "[[0 0 0 ... 0 0 0]\n",
      " [0 0 0 ... 0 0 0]\n",
      " [0 0 0 ... 0 0 0]\n",
      " ...\n",
      " [0 0 0 ... 0 0 0]\n",
      " [0 0 0 ... 0 0 0]\n",
      " [0 0 0 ... 0 0 0]]\n"
     ]
    }
   ],
   "source": [
    "y_test.head()\n",
    "ytest = y_test.copy()\n",
    "ytest = np.array(ytest)\n",
    "ytest = np.delete(ytest, 0, 1) \n",
    "print(ytest.shape)\n",
    "print(ytest)"
   ]
  },
  {
   "cell_type": "code",
   "execution_count": 43,
   "metadata": {},
   "outputs": [
    {
     "name": "stdout",
     "output_type": "stream",
     "text": [
      "(3220100, 30)\n",
      "[[0 0 0 ... 0 0 0]\n",
      " [0 0 0 ... 0 0 0]\n",
      " [0 0 0 ... 1 0 0]\n",
      " ...\n",
      " [0 0 0 ... 0 0 0]\n",
      " [0 0 0 ... 0 0 0]\n",
      " [0 0 0 ... 0 0 0]]\n"
     ]
    }
   ],
   "source": [
    "y_train.head()\n",
    "ytrain = y_train.copy()\n",
    "ytrain = np.array(ytrain)\n",
    "ytrain = np.delete(ytrain, 0, 1) \n",
    "print(ytrain.shape)\n",
    "print(ytrain)"
   ]
  },
  {
   "cell_type": "markdown",
   "metadata": {},
   "source": [
    "# deleting the first column in X_dev/train/test, because we can't put the user_id in the models"
   ]
  },
  {
   "cell_type": "code",
   "execution_count": 44,
   "metadata": {},
   "outputs": [
    {
     "name": "stdout",
     "output_type": "stream",
     "text": [
      "(402512, 10)\n"
     ]
    },
    {
     "data": {
      "text/html": [
       "<div>\n",
       "<style scoped>\n",
       "    .dataframe tbody tr th:only-of-type {\n",
       "        vertical-align: middle;\n",
       "    }\n",
       "\n",
       "    .dataframe tbody tr th {\n",
       "        vertical-align: top;\n",
       "    }\n",
       "\n",
       "    .dataframe thead th {\n",
       "        text-align: right;\n",
       "    }\n",
       "</style>\n",
       "<table border=\"1\" class=\"dataframe\">\n",
       "  <thead>\n",
       "    <tr style=\"text-align: right;\">\n",
       "      <th></th>\n",
       "      <th>reordered</th>\n",
       "      <th>product_popularity_cnt</th>\n",
       "      <th>department_popularity_cnt</th>\n",
       "      <th>IsOrganic</th>\n",
       "      <th>days_previous_Group</th>\n",
       "      <th>Percentage_amount_product</th>\n",
       "      <th>order_HourGroup_18-24</th>\n",
       "      <th>order_HourGroup_06-12</th>\n",
       "      <th>order_HourGroup_00-06</th>\n",
       "      <th>order_HourGroup_12-18</th>\n",
       "    </tr>\n",
       "  </thead>\n",
       "  <tbody>\n",
       "    <tr>\n",
       "      <th>0</th>\n",
       "      <td>1</td>\n",
       "      <td>0.024617</td>\n",
       "      <td>0.929434</td>\n",
       "      <td>1</td>\n",
       "      <td>1</td>\n",
       "      <td>0.0625</td>\n",
       "      <td>1</td>\n",
       "      <td>0</td>\n",
       "      <td>0</td>\n",
       "      <td>0</td>\n",
       "    </tr>\n",
       "    <tr>\n",
       "      <th>1</th>\n",
       "      <td>1</td>\n",
       "      <td>0.020455</td>\n",
       "      <td>0.929434</td>\n",
       "      <td>1</td>\n",
       "      <td>1</td>\n",
       "      <td>0.1875</td>\n",
       "      <td>0</td>\n",
       "      <td>1</td>\n",
       "      <td>0</td>\n",
       "      <td>0</td>\n",
       "    </tr>\n",
       "    <tr>\n",
       "      <th>2</th>\n",
       "      <td>1</td>\n",
       "      <td>0.115153</td>\n",
       "      <td>0.929434</td>\n",
       "      <td>0</td>\n",
       "      <td>2</td>\n",
       "      <td>0.2500</td>\n",
       "      <td>0</td>\n",
       "      <td>0</td>\n",
       "      <td>1</td>\n",
       "      <td>0</td>\n",
       "    </tr>\n",
       "    <tr>\n",
       "      <th>3</th>\n",
       "      <td>1</td>\n",
       "      <td>0.115153</td>\n",
       "      <td>0.929434</td>\n",
       "      <td>0</td>\n",
       "      <td>4</td>\n",
       "      <td>0.0625</td>\n",
       "      <td>0</td>\n",
       "      <td>0</td>\n",
       "      <td>0</td>\n",
       "      <td>1</td>\n",
       "    </tr>\n",
       "    <tr>\n",
       "      <th>4</th>\n",
       "      <td>1</td>\n",
       "      <td>0.064592</td>\n",
       "      <td>0.929434</td>\n",
       "      <td>1</td>\n",
       "      <td>4</td>\n",
       "      <td>0.0625</td>\n",
       "      <td>1</td>\n",
       "      <td>0</td>\n",
       "      <td>0</td>\n",
       "      <td>0</td>\n",
       "    </tr>\n",
       "  </tbody>\n",
       "</table>\n",
       "</div>"
      ],
      "text/plain": [
       "   reordered  product_popularity_cnt  department_popularity_cnt  IsOrganic  \\\n",
       "0          1                0.024617                   0.929434          1   \n",
       "1          1                0.020455                   0.929434          1   \n",
       "2          1                0.115153                   0.929434          0   \n",
       "3          1                0.115153                   0.929434          0   \n",
       "4          1                0.064592                   0.929434          1   \n",
       "\n",
       "   days_previous_Group  Percentage_amount_product  order_HourGroup_18-24  \\\n",
       "0                    1                     0.0625                      1   \n",
       "1                    1                     0.1875                      0   \n",
       "2                    2                     0.2500                      0   \n",
       "3                    4                     0.0625                      0   \n",
       "4                    4                     0.0625                      1   \n",
       "\n",
       "   order_HourGroup_06-12  order_HourGroup_00-06  order_HourGroup_12-18  \n",
       "0                      0                      0                      0  \n",
       "1                      1                      0                      0  \n",
       "2                      0                      1                      0  \n",
       "3                      0                      0                      1  \n",
       "4                      0                      0                      0  "
      ]
     },
     "execution_count": 44,
     "metadata": {},
     "output_type": "execute_result"
    }
   ],
   "source": [
    "\n",
    "Xdev = X_dev.copy()\n",
    "Xdev = Xdev.drop(['Unnamed: 0'],axis=1)\n",
    "print(Xdev.shape)\n",
    "Xdev.head()"
   ]
  },
  {
   "cell_type": "code",
   "execution_count": 45,
   "metadata": {},
   "outputs": [
    {
     "name": "stdout",
     "output_type": "stream",
     "text": [
      "(3220100, 10)\n"
     ]
    },
    {
     "data": {
      "text/html": [
       "<div>\n",
       "<style scoped>\n",
       "    .dataframe tbody tr th:only-of-type {\n",
       "        vertical-align: middle;\n",
       "    }\n",
       "\n",
       "    .dataframe tbody tr th {\n",
       "        vertical-align: top;\n",
       "    }\n",
       "\n",
       "    .dataframe thead th {\n",
       "        text-align: right;\n",
       "    }\n",
       "</style>\n",
       "<table border=\"1\" class=\"dataframe\">\n",
       "  <thead>\n",
       "    <tr style=\"text-align: right;\">\n",
       "      <th></th>\n",
       "      <th>reordered</th>\n",
       "      <th>product_popularity_cnt</th>\n",
       "      <th>department_popularity_cnt</th>\n",
       "      <th>IsOrganic</th>\n",
       "      <th>days_previous_Group</th>\n",
       "      <th>Percentage_amount_product</th>\n",
       "      <th>order_HourGroup_12-18</th>\n",
       "      <th>order_HourGroup_18-24</th>\n",
       "      <th>order_HourGroup_06-12</th>\n",
       "      <th>order_HourGroup_00-06</th>\n",
       "    </tr>\n",
       "  </thead>\n",
       "  <tbody>\n",
       "    <tr>\n",
       "      <th>0</th>\n",
       "      <td>1</td>\n",
       "      <td>0.092567</td>\n",
       "      <td>0.929434</td>\n",
       "      <td>1</td>\n",
       "      <td>1</td>\n",
       "      <td>0.1250</td>\n",
       "      <td>1</td>\n",
       "      <td>0</td>\n",
       "      <td>0</td>\n",
       "      <td>0</td>\n",
       "    </tr>\n",
       "    <tr>\n",
       "      <th>1</th>\n",
       "      <td>0</td>\n",
       "      <td>0.019529</td>\n",
       "      <td>0.929434</td>\n",
       "      <td>0</td>\n",
       "      <td>4</td>\n",
       "      <td>0.3750</td>\n",
       "      <td>1</td>\n",
       "      <td>0</td>\n",
       "      <td>0</td>\n",
       "      <td>0</td>\n",
       "    </tr>\n",
       "    <tr>\n",
       "      <th>2</th>\n",
       "      <td>1</td>\n",
       "      <td>0.043180</td>\n",
       "      <td>0.929434</td>\n",
       "      <td>1</td>\n",
       "      <td>2</td>\n",
       "      <td>0.1875</td>\n",
       "      <td>1</td>\n",
       "      <td>0</td>\n",
       "      <td>0</td>\n",
       "      <td>0</td>\n",
       "    </tr>\n",
       "    <tr>\n",
       "      <th>3</th>\n",
       "      <td>0</td>\n",
       "      <td>0.017755</td>\n",
       "      <td>0.929434</td>\n",
       "      <td>1</td>\n",
       "      <td>4</td>\n",
       "      <td>0.4375</td>\n",
       "      <td>1</td>\n",
       "      <td>0</td>\n",
       "      <td>0</td>\n",
       "      <td>0</td>\n",
       "    </tr>\n",
       "    <tr>\n",
       "      <th>4</th>\n",
       "      <td>1</td>\n",
       "      <td>0.018518</td>\n",
       "      <td>0.051992</td>\n",
       "      <td>1</td>\n",
       "      <td>4</td>\n",
       "      <td>0.2500</td>\n",
       "      <td>1</td>\n",
       "      <td>0</td>\n",
       "      <td>0</td>\n",
       "      <td>0</td>\n",
       "    </tr>\n",
       "  </tbody>\n",
       "</table>\n",
       "</div>"
      ],
      "text/plain": [
       "   reordered  product_popularity_cnt  department_popularity_cnt  IsOrganic  \\\n",
       "0          1                0.092567                   0.929434          1   \n",
       "1          0                0.019529                   0.929434          0   \n",
       "2          1                0.043180                   0.929434          1   \n",
       "3          0                0.017755                   0.929434          1   \n",
       "4          1                0.018518                   0.051992          1   \n",
       "\n",
       "   days_previous_Group  Percentage_amount_product  order_HourGroup_12-18  \\\n",
       "0                    1                     0.1250                      1   \n",
       "1                    4                     0.3750                      1   \n",
       "2                    2                     0.1875                      1   \n",
       "3                    4                     0.4375                      1   \n",
       "4                    4                     0.2500                      1   \n",
       "\n",
       "   order_HourGroup_18-24  order_HourGroup_06-12  order_HourGroup_00-06  \n",
       "0                      0                      0                      0  \n",
       "1                      0                      0                      0  \n",
       "2                      0                      0                      0  \n",
       "3                      0                      0                      0  \n",
       "4                      0                      0                      0  "
      ]
     },
     "execution_count": 45,
     "metadata": {},
     "output_type": "execute_result"
    }
   ],
   "source": [
    "\n",
    "Xtrain = X_train.copy()\n",
    "Xtrain = Xtrain.drop(['Unnamed: 0'],axis=1)\n",
    "print(Xtrain.shape)\n",
    "Xtrain.head()"
   ]
  },
  {
   "cell_type": "code",
   "execution_count": 46,
   "metadata": {},
   "outputs": [
    {
     "name": "stdout",
     "output_type": "stream",
     "text": [
      "(402512, 10)\n"
     ]
    },
    {
     "data": {
      "text/html": [
       "<div>\n",
       "<style scoped>\n",
       "    .dataframe tbody tr th:only-of-type {\n",
       "        vertical-align: middle;\n",
       "    }\n",
       "\n",
       "    .dataframe tbody tr th {\n",
       "        vertical-align: top;\n",
       "    }\n",
       "\n",
       "    .dataframe thead th {\n",
       "        text-align: right;\n",
       "    }\n",
       "</style>\n",
       "<table border=\"1\" class=\"dataframe\">\n",
       "  <thead>\n",
       "    <tr style=\"text-align: right;\">\n",
       "      <th></th>\n",
       "      <th>reordered</th>\n",
       "      <th>product_popularity_cnt</th>\n",
       "      <th>department_popularity_cnt</th>\n",
       "      <th>IsOrganic</th>\n",
       "      <th>days_previous_Group</th>\n",
       "      <th>Percentage_amount_product</th>\n",
       "      <th>order_HourGroup_06-12</th>\n",
       "      <th>order_HourGroup_12-18</th>\n",
       "      <th>order_HourGroup_18-24</th>\n",
       "      <th>order_HourGroup_00-06</th>\n",
       "    </tr>\n",
       "  </thead>\n",
       "  <tbody>\n",
       "    <tr>\n",
       "      <th>0</th>\n",
       "      <td>0</td>\n",
       "      <td>0.058997</td>\n",
       "      <td>0.929434</td>\n",
       "      <td>1</td>\n",
       "      <td>3</td>\n",
       "      <td>0.0625</td>\n",
       "      <td>1</td>\n",
       "      <td>0</td>\n",
       "      <td>0</td>\n",
       "      <td>0</td>\n",
       "    </tr>\n",
       "    <tr>\n",
       "      <th>1</th>\n",
       "      <td>1</td>\n",
       "      <td>0.017755</td>\n",
       "      <td>0.929434</td>\n",
       "      <td>1</td>\n",
       "      <td>2</td>\n",
       "      <td>0.1875</td>\n",
       "      <td>1</td>\n",
       "      <td>0</td>\n",
       "      <td>0</td>\n",
       "      <td>0</td>\n",
       "    </tr>\n",
       "    <tr>\n",
       "      <th>2</th>\n",
       "      <td>0</td>\n",
       "      <td>0.035028</td>\n",
       "      <td>0.929434</td>\n",
       "      <td>0</td>\n",
       "      <td>4</td>\n",
       "      <td>0.1875</td>\n",
       "      <td>0</td>\n",
       "      <td>1</td>\n",
       "      <td>0</td>\n",
       "      <td>0</td>\n",
       "    </tr>\n",
       "    <tr>\n",
       "      <th>3</th>\n",
       "      <td>1</td>\n",
       "      <td>0.037687</td>\n",
       "      <td>0.929434</td>\n",
       "      <td>0</td>\n",
       "      <td>1</td>\n",
       "      <td>0.2500</td>\n",
       "      <td>0</td>\n",
       "      <td>1</td>\n",
       "      <td>0</td>\n",
       "      <td>0</td>\n",
       "    </tr>\n",
       "    <tr>\n",
       "      <th>4</th>\n",
       "      <td>0</td>\n",
       "      <td>0.020333</td>\n",
       "      <td>0.929434</td>\n",
       "      <td>0</td>\n",
       "      <td>1</td>\n",
       "      <td>0.2500</td>\n",
       "      <td>0</td>\n",
       "      <td>1</td>\n",
       "      <td>0</td>\n",
       "      <td>0</td>\n",
       "    </tr>\n",
       "  </tbody>\n",
       "</table>\n",
       "</div>"
      ],
      "text/plain": [
       "   reordered  product_popularity_cnt  department_popularity_cnt  IsOrganic  \\\n",
       "0          0                0.058997                   0.929434          1   \n",
       "1          1                0.017755                   0.929434          1   \n",
       "2          0                0.035028                   0.929434          0   \n",
       "3          1                0.037687                   0.929434          0   \n",
       "4          0                0.020333                   0.929434          0   \n",
       "\n",
       "   days_previous_Group  Percentage_amount_product  order_HourGroup_06-12  \\\n",
       "0                    3                     0.0625                      1   \n",
       "1                    2                     0.1875                      1   \n",
       "2                    4                     0.1875                      0   \n",
       "3                    1                     0.2500                      0   \n",
       "4                    1                     0.2500                      0   \n",
       "\n",
       "   order_HourGroup_12-18  order_HourGroup_18-24  order_HourGroup_00-06  \n",
       "0                      0                      0                      0  \n",
       "1                      0                      0                      0  \n",
       "2                      1                      0                      0  \n",
       "3                      1                      0                      0  \n",
       "4                      1                      0                      0  "
      ]
     },
     "execution_count": 46,
     "metadata": {},
     "output_type": "execute_result"
    }
   ],
   "source": [
    "\n",
    "Xtest = X_test.copy()\n",
    "Xtest = Xtest.drop(['Unnamed: 0'],axis=1)\n",
    "print(Xtest.shape)\n",
    "Xtest.head()"
   ]
  },
  {
   "cell_type": "markdown",
   "metadata": {},
   "source": [
    "# Logistic Regression "
   ]
  },
  {
   "cell_type": "markdown",
   "metadata": {},
   "source": [
    "# ALL THE MODELS MUST BE ENVELOPED INTO THE FUNCTION \n",
    " \n",
    "# \"LabelPowerset()\" . \n",
    " \n",
    "### This function convert the model to a multi-label format. Without it, some models will fail to understand that you are working with a multilabel outcome!"
   ]
  },
  {
   "cell_type": "code",
   "execution_count": 19,
   "metadata": {},
   "outputs": [],
   "source": [
    "# initialize label powerset multi-label classifier\n",
    "classifier = LabelPowerset(LogisticRegression())\n"
   ]
  },
  {
   "cell_type": "code",
   "execution_count": 20,
   "metadata": {},
   "outputs": [
    {
     "data": {
      "text/plain": [
       "LabelPowerset(classifier=LogisticRegression(C=1.0, class_weight=None, dual=False, fit_intercept=True,\n",
       "          intercept_scaling=1, max_iter=100, multi_class='ovr', n_jobs=1,\n",
       "          penalty='l2', random_state=None, solver='liblinear', tol=0.0001,\n",
       "          verbose=0, warm_start=False),\n",
       "       require_dense=[True, True])"
      ]
     },
     "execution_count": 20,
     "metadata": {},
     "output_type": "execute_result"
    }
   ],
   "source": [
    "# train\n",
    "classifier.fit(Xtrain,ytrain)\n"
   ]
  },
  {
   "cell_type": "code",
   "execution_count": 21,
   "metadata": {},
   "outputs": [],
   "source": [
    "# predict\n",
    "predictions = classifier.predict(Xdev)"
   ]
  },
  {
   "cell_type": "code",
   "execution_count": 22,
   "metadata": {},
   "outputs": [
    {
     "data": {
      "text/plain": [
       "(402512, 30)"
      ]
     },
     "execution_count": 22,
     "metadata": {},
     "output_type": "execute_result"
    }
   ],
   "source": [
    "predictions.shape"
   ]
  },
  {
   "cell_type": "markdown",
   "metadata": {},
   "source": [
    "# The output prediction is in a special format called \"lil_matrix\" (list of lists format). \n",
    " \n",
    "### This is a sparce matrix that enables the model to work faster. However, the format is not recognized by many of the model operators. We need to convert them back to an numpy array..."
   ]
  },
  {
   "cell_type": "code",
   "execution_count": 23,
   "metadata": {},
   "outputs": [
    {
     "data": {
      "text/plain": [
       "scipy.sparse.lil.lil_matrix"
      ]
     },
     "execution_count": 23,
     "metadata": {},
     "output_type": "execute_result"
    }
   ],
   "source": [
    "type(predictions)"
   ]
  },
  {
   "cell_type": "code",
   "execution_count": 24,
   "metadata": {},
   "outputs": [
    {
     "data": {
      "text/plain": [
       "array([[0, 0, 0, ..., 0, 0, 0],\n",
       "       [0, 0, 0, ..., 0, 0, 0],\n",
       "       [0, 0, 0, ..., 0, 0, 0],\n",
       "       ...,\n",
       "       [0, 0, 0, ..., 0, 0, 0],\n",
       "       [0, 0, 0, ..., 0, 0, 0],\n",
       "       [0, 0, 0, ..., 0, 0, 0]], dtype=int64)"
      ]
     },
     "execution_count": 24,
     "metadata": {},
     "output_type": "execute_result"
    }
   ],
   "source": [
    "predictions2 = np.array(predictions.todense())\n",
    "predictions2"
   ]
  },
  {
   "cell_type": "markdown",
   "metadata": {},
   "source": [
    "# By summing the columns of the multilabel outcome and prediction we can get a sense of what is going on and how the model is behaving...."
   ]
  },
  {
   "cell_type": "code",
   "execution_count": 25,
   "metadata": {},
   "outputs": [
    {
     "name": "stdout",
     "output_type": "stream",
     "text": [
      "[ 7060  8275  8554  8271 37375 14213  7396 25961  7069 23754 11316 46049\n",
      " 10615 13719 13604 13616  8756  8048  7210  9863  8248  7710  7395 10502\n",
      "  7906 20866 15349 16773  7616  9423]\n",
      "(402512, 30)\n"
     ]
    }
   ],
   "source": [
    "print(np.sum(ydev,axis=0))\n",
    "print(ydev.shape)"
   ]
  },
  {
   "cell_type": "code",
   "execution_count": 26,
   "metadata": {},
   "outputs": [
    {
     "name": "stdout",
     "output_type": "stream",
     "text": [
      "[ 4568  3895   590     7 37375 29588 12931 50548  2808 33550   269 46049\n",
      "  7483  6736 13604 31538  8488  5318  1213 19222  4687  4338  7395   499\n",
      "  4129 16714 21940 14325  7616  5089]\n",
      "(402512, 30)\n"
     ]
    }
   ],
   "source": [
    "print(np.sum(predictions2,axis=0))\n",
    "print(predictions2.shape)"
   ]
  },
  {
   "cell_type": "markdown",
   "metadata": {},
   "source": [
    "# And we calculate the accuracy using the score() function and/or the hamming score (see at the begining of the notebook)."
   ]
  },
  {
   "cell_type": "code",
   "execution_count": 27,
   "metadata": {},
   "outputs": [
    {
     "data": {
      "text/plain": [
       "0.4404812775768176"
      ]
     },
     "execution_count": 27,
     "metadata": {},
     "output_type": "execute_result"
    }
   ],
   "source": [
    "classifier.score(Xdev,ydev)"
   ]
  },
  {
   "cell_type": "code",
   "execution_count": 28,
   "metadata": {},
   "outputs": [
    {
     "data": {
      "text/plain": [
       "0.4404812775768176"
      ]
     },
     "execution_count": 28,
     "metadata": {},
     "output_type": "execute_result"
    }
   ],
   "source": [
    "ham=hamming_score(ydev, predictions2)\n",
    "ham"
   ]
  },
  {
   "cell_type": "code",
   "execution_count": 29,
   "metadata": {},
   "outputs": [],
   "source": [
    "### We will create a table for comparing the results\n",
    "#res = pd.DataFrame(columns=['model','accuracy', 'error'])\n",
    "res = []"
   ]
  },
  {
   "cell_type": "code",
   "execution_count": 30,
   "metadata": {},
   "outputs": [
    {
     "data": {
      "text/plain": [
       "[{'model': 'Logistic Regression ', 'accuracy': 0.4404812775768176}]"
      ]
     },
     "execution_count": 30,
     "metadata": {},
     "output_type": "execute_result"
    }
   ],
   "source": [
    "res.append({'model':'Logistic Regression ','accuracy':ham})\n",
    "res"
   ]
  },
  {
   "cell_type": "markdown",
   "metadata": {},
   "source": [
    "# Ridge - Logistic Regression with L2 regularization\n"
   ]
  },
  {
   "cell_type": "markdown",
   "metadata": {},
   "source": [
    "# sklearn.linear_model.RidgeClassifierCV"
   ]
  },
  {
   "cell_type": "code",
   "execution_count": 40,
   "metadata": {},
   "outputs": [],
   "source": [
    "from sklearn.linear_model import RidgeClassifier, RidgeClassifierCV\n",
    "# Initialize the predictive model object\n",
    "#mod_logistic = LogisticRegression()"
   ]
  },
  {
   "cell_type": "code",
   "execution_count": 42,
   "metadata": {},
   "outputs": [
    {
     "data": {
      "text/plain": [
       "LabelPowerset(classifier=RidgeClassifierCV(alphas=array([ 0.1,  1. , 10. ]), class_weight=None,\n",
       "         cv=None, fit_intercept=True, normalize=False, scoring=None,\n",
       "         store_cv_values=False),\n",
       "       require_dense=[True, True])"
      ]
     },
     "execution_count": 42,
     "metadata": {},
     "output_type": "execute_result"
    }
   ],
   "source": [
    "# Train the model using the training sets\n",
    "#mod_logistic.fit(X_train, y_train)\n",
    "mod = LabelPowerset(RidgeClassifierCV())\n",
    "mod.fit(Xtrain,ytrain)"
   ]
  },
  {
   "cell_type": "code",
   "execution_count": 49,
   "metadata": {},
   "outputs": [],
   "source": [
    "# Make predictions using the testing set\n",
    "pred_Ridge = mod.predict(Xdev)"
   ]
  },
  {
   "cell_type": "code",
   "execution_count": 53,
   "metadata": {},
   "outputs": [
    {
     "name": "stdout",
     "output_type": "stream",
     "text": [
      "<class 'scipy.sparse.lil.lil_matrix'>\n",
      "(402512, 30)\n"
     ]
    }
   ],
   "source": [
    "print(type(pred_Ridge))\n",
    "print(pred_Ridge.shape)"
   ]
  },
  {
   "cell_type": "code",
   "execution_count": 54,
   "metadata": {},
   "outputs": [
    {
     "name": "stdout",
     "output_type": "stream",
     "text": [
      "(402512, 30)\n"
     ]
    }
   ],
   "source": [
    "pred_Ridge2 = np.array(pred_Ridge.todense())\n",
    "print(pred_Ridge2.shape)"
   ]
  },
  {
   "cell_type": "code",
   "execution_count": 55,
   "metadata": {},
   "outputs": [
    {
     "data": {
      "text/plain": [
       "array([[0, 0, 0, ..., 0, 0, 0],\n",
       "       [0, 0, 0, ..., 0, 0, 0],\n",
       "       [0, 0, 0, ..., 0, 0, 0],\n",
       "       ...,\n",
       "       [0, 0, 0, ..., 0, 0, 0],\n",
       "       [0, 0, 0, ..., 0, 0, 0],\n",
       "       [0, 0, 0, ..., 0, 0, 0]], dtype=int64)"
      ]
     },
     "execution_count": 55,
     "metadata": {},
     "output_type": "execute_result"
    }
   ],
   "source": [
    "pred_Ridge2 = np.array(pred_Ridge.todense())\n",
    "pred_Ridge2"
   ]
  },
  {
   "cell_type": "code",
   "execution_count": 56,
   "metadata": {},
   "outputs": [
    {
     "name": "stdout",
     "output_type": "stream",
     "text": [
      "[     0      0      0      0 135272  11140      0  21876      0  44724\n",
      "      0  89352      0      0  28615      0      0      0      0    482\n",
      "      0      0      0      0      0  45458  21524   4069      0      0]\n",
      "(402512, 30)\n"
     ]
    }
   ],
   "source": [
    "#print(np.sum(pred2,axis=1))\n",
    "print(np.sum(pred_Ridge2,axis=0))\n",
    "print(pred_Ridge2.shape)"
   ]
  },
  {
   "cell_type": "code",
   "execution_count": 57,
   "metadata": {},
   "outputs": [
    {
     "data": {
      "text/plain": [
       "0.24100151051397226"
      ]
     },
     "execution_count": 57,
     "metadata": {},
     "output_type": "execute_result"
    }
   ],
   "source": [
    "mod.score(Xdev,ydev)"
   ]
  },
  {
   "cell_type": "code",
   "execution_count": 58,
   "metadata": {},
   "outputs": [
    {
     "data": {
      "text/plain": [
       "0.24100151051397226"
      ]
     },
     "execution_count": 58,
     "metadata": {},
     "output_type": "execute_result"
    }
   ],
   "source": [
    "ham=hamming_score(ydev, pred_Ridge2)\n",
    "ham"
   ]
  },
  {
   "cell_type": "code",
   "execution_count": 59,
   "metadata": {},
   "outputs": [
    {
     "data": {
      "text/plain": [
       "[{'model': 'Logistic Regression ', 'accuracy': 0.4404812775768176},\n",
       " {'model': 'Ridge - Logistic Regression ', 'accuracy': 0.24100151051397226}]"
      ]
     },
     "execution_count": 59,
     "metadata": {},
     "output_type": "execute_result"
    }
   ],
   "source": [
    "res.append({'model':'Ridge - Logistic Regression ','accuracy':ham})\n",
    "res"
   ]
  },
  {
   "cell_type": "markdown",
   "metadata": {},
   "source": [
    "# sklearn.tree.DecisionTreeClassifier"
   ]
  },
  {
   "cell_type": "code",
   "execution_count": 47,
   "metadata": {},
   "outputs": [],
   "source": [
    "from sklearn.model_selection import cross_val_score\n",
    "from sklearn.tree import DecisionTreeClassifier"
   ]
  },
  {
   "cell_type": "code",
   "execution_count": 48,
   "metadata": {},
   "outputs": [],
   "source": [
    "\n",
    "mod_DecisionTree = LabelPowerset(DecisionTreeClassifier())\n"
   ]
  },
  {
   "cell_type": "code",
   "execution_count": 49,
   "metadata": {},
   "outputs": [
    {
     "data": {
      "text/plain": [
       "LabelPowerset(classifier=DecisionTreeClassifier(class_weight=None, criterion='gini', max_depth=None,\n",
       "            max_features=None, max_leaf_nodes=None,\n",
       "            min_impurity_decrease=0.0, min_impurity_split=None,\n",
       "            min_samples_leaf=1, min_samples_split=2,\n",
       "            min_weight_fraction_leaf=0.0, presort=False, random_state=None,\n",
       "            splitter='best'),\n",
       "       require_dense=[True, True])"
      ]
     },
     "execution_count": 49,
     "metadata": {},
     "output_type": "execute_result"
    }
   ],
   "source": [
    "mod_DecisionTree.fit(Xtrain,ytrain)"
   ]
  },
  {
   "cell_type": "code",
   "execution_count": 50,
   "metadata": {},
   "outputs": [],
   "source": [
    "# Make predictions \n",
    "pred_DecisionTree = mod_DecisionTree.predict(Xdev)"
   ]
  },
  {
   "cell_type": "code",
   "execution_count": 65,
   "metadata": {},
   "outputs": [
    {
     "name": "stdout",
     "output_type": "stream",
     "text": [
      "<class 'scipy.sparse.lil.lil_matrix'>\n",
      "(402512, 30)\n"
     ]
    }
   ],
   "source": [
    "print(type(pred_DecisionTree))\n",
    "print(pred_DecisionTree.shape)"
   ]
  },
  {
   "cell_type": "code",
   "execution_count": 66,
   "metadata": {},
   "outputs": [
    {
     "data": {
      "text/plain": [
       "array([[0, 0, 0, ..., 0, 0, 0],\n",
       "       [0, 0, 0, ..., 0, 0, 0],\n",
       "       [0, 0, 0, ..., 0, 0, 0],\n",
       "       ...,\n",
       "       [0, 0, 0, ..., 0, 0, 0],\n",
       "       [0, 0, 0, ..., 0, 0, 0],\n",
       "       [0, 0, 0, ..., 0, 0, 0]], dtype=int64)"
      ]
     },
     "execution_count": 66,
     "metadata": {},
     "output_type": "execute_result"
    }
   ],
   "source": [
    "pred_DecisionTree2 = np.array(pred_DecisionTree.todense())\n",
    "pred_DecisionTree2"
   ]
  },
  {
   "cell_type": "code",
   "execution_count": 67,
   "metadata": {},
   "outputs": [
    {
     "name": "stdout",
     "output_type": "stream",
     "text": [
      "[ 7060  8275  8554  8271 37375 14213  7396 25961  7069 23754 11316 46049\n",
      " 10615 13719 13604 13616  8756  8048  7210  9863  8248  7710  7395 10502\n",
      "  7906 20866 15349 16773  7616  9423]\n",
      "(402512, 30)\n"
     ]
    }
   ],
   "source": [
    "#print(np.sum(pred2,axis=1))\n",
    "print(np.sum(pred_DecisionTree2,axis=0))\n",
    "print(pred_DecisionTree2.shape)"
   ]
  },
  {
   "cell_type": "code",
   "execution_count": 70,
   "metadata": {},
   "outputs": [
    {
     "data": {
      "text/plain": [
       "1.0"
      ]
     },
     "execution_count": 70,
     "metadata": {},
     "output_type": "execute_result"
    }
   ],
   "source": [
    "ham=hamming_score(ydev, pred_DecisionTree2)\n",
    "ham"
   ]
  },
  {
   "cell_type": "markdown",
   "metadata": {},
   "source": [
    "we have a perfect match then we get one!"
   ]
  },
  {
   "cell_type": "code",
   "execution_count": 69,
   "metadata": {},
   "outputs": [
    {
     "data": {
      "text/plain": [
       "[{'model': 'Logistic Regression ', 'accuracy': 0.4404812775768176},\n",
       " {'model': 'Ridge - Logistic Regression ', 'accuracy': 0.24100151051397226},\n",
       " {'model': 'Decision Tree Classifier ', 'accuracy': 1.0}]"
      ]
     },
     "execution_count": 69,
     "metadata": {},
     "output_type": "execute_result"
    }
   ],
   "source": [
    "res.append({'model':'Decision Tree Classifier ','accuracy':ham})\n",
    "res"
   ]
  },
  {
   "cell_type": "markdown",
   "metadata": {},
   "source": [
    "# sklearn.tree.ExtraTreeClassifier"
   ]
  },
  {
   "cell_type": "code",
   "execution_count": 71,
   "metadata": {},
   "outputs": [],
   "source": [
    "from sklearn.tree import ExtraTreeClassifier"
   ]
  },
  {
   "cell_type": "code",
   "execution_count": 73,
   "metadata": {},
   "outputs": [],
   "source": [
    "mod_ExtraTree = LabelPowerset(ExtraTreeClassifier())"
   ]
  },
  {
   "cell_type": "code",
   "execution_count": 74,
   "metadata": {},
   "outputs": [
    {
     "data": {
      "text/plain": [
       "LabelPowerset(classifier=ExtraTreeClassifier(class_weight=None, criterion='gini', max_depth=None,\n",
       "          max_features='auto', max_leaf_nodes=None,\n",
       "          min_impurity_decrease=0.0, min_impurity_split=None,\n",
       "          min_samples_leaf=1, min_samples_split=2,\n",
       "          min_weight_fraction_leaf=0.0, random_state=None,\n",
       "          splitter='random'),\n",
       "       require_dense=[True, True])"
      ]
     },
     "execution_count": 74,
     "metadata": {},
     "output_type": "execute_result"
    }
   ],
   "source": [
    "mod_ExtraTree.fit(Xtrain,ytrain)"
   ]
  },
  {
   "cell_type": "code",
   "execution_count": 76,
   "metadata": {},
   "outputs": [],
   "source": [
    "# Make predictions \n",
    "pred_ExtraTree = mod_ExtraTree.predict(Xdev)"
   ]
  },
  {
   "cell_type": "code",
   "execution_count": 77,
   "metadata": {},
   "outputs": [
    {
     "name": "stdout",
     "output_type": "stream",
     "text": [
      "<class 'scipy.sparse.lil.lil_matrix'>\n",
      "(402512, 30)\n"
     ]
    }
   ],
   "source": [
    "print(type(pred_ExtraTree))\n",
    "print(pred_ExtraTree.shape)"
   ]
  },
  {
   "cell_type": "code",
   "execution_count": 78,
   "metadata": {},
   "outputs": [
    {
     "data": {
      "text/plain": [
       "array([[0, 0, 0, ..., 0, 0, 0],\n",
       "       [0, 0, 0, ..., 0, 0, 0],\n",
       "       [0, 0, 0, ..., 0, 0, 0],\n",
       "       ...,\n",
       "       [0, 0, 0, ..., 0, 0, 0],\n",
       "       [0, 0, 0, ..., 0, 0, 0],\n",
       "       [0, 0, 0, ..., 0, 0, 0]], dtype=int64)"
      ]
     },
     "execution_count": 78,
     "metadata": {},
     "output_type": "execute_result"
    }
   ],
   "source": [
    "pred_ExtraTree2 = np.array(pred_ExtraTree.todense())\n",
    "pred_ExtraTree2"
   ]
  },
  {
   "cell_type": "code",
   "execution_count": 79,
   "metadata": {},
   "outputs": [
    {
     "name": "stdout",
     "output_type": "stream",
     "text": [
      "[ 7050  8297  8547  8260 37374 14209  7402 25959  7063 23762 11318 46049\n",
      " 10628 13723 13603 13609  8742  8049  7206  9856  8285  7704  7395 10511\n",
      "  7909 20860 15349 16770  7615  9408]\n",
      "(402512, 30)\n"
     ]
    }
   ],
   "source": [
    "#print(np.sum(pred2,axis=1))\n",
    "print(np.sum(pred_ExtraTree2,axis=0))\n",
    "print(pred_ExtraTree2.shape)"
   ]
  },
  {
   "cell_type": "code",
   "execution_count": 80,
   "metadata": {},
   "outputs": [
    {
     "data": {
      "text/plain": [
       "0.9995205111897285"
      ]
     },
     "execution_count": 80,
     "metadata": {},
     "output_type": "execute_result"
    }
   ],
   "source": [
    "ham=hamming_score(ydev,pred_ExtraTree2)\n",
    "ham"
   ]
  },
  {
   "cell_type": "code",
   "execution_count": 81,
   "metadata": {},
   "outputs": [
    {
     "data": {
      "text/plain": [
       "[{'model': 'Logistic Regression ', 'accuracy': 0.4404812775768176},\n",
       " {'model': 'Ridge - Logistic Regression ', 'accuracy': 0.24100151051397226},\n",
       " {'model': 'Decision Tree Classifier ', 'accuracy': 1.0},\n",
       " {'model': 'Decision Tree Classifier ', 'accuracy': 0.9995205111897285}]"
      ]
     },
     "execution_count": 81,
     "metadata": {},
     "output_type": "execute_result"
    }
   ],
   "source": [
    "res.append({'model':'Decision Tree Classifier ','accuracy':ham})\n",
    "res"
   ]
  },
  {
   "cell_type": "markdown",
   "metadata": {},
   "source": [
    "# sklearn.ensemble.ExtraTreesClassifier"
   ]
  },
  {
   "cell_type": "code",
   "execution_count": 82,
   "metadata": {},
   "outputs": [],
   "source": [
    "from sklearn.ensemble import ExtraTreesClassifier"
   ]
  },
  {
   "cell_type": "code",
   "execution_count": 83,
   "metadata": {},
   "outputs": [],
   "source": [
    "mod_ensemble_ExtraTree = LabelPowerset(ExtraTreeClassifier())"
   ]
  },
  {
   "cell_type": "code",
   "execution_count": 84,
   "metadata": {},
   "outputs": [
    {
     "data": {
      "text/plain": [
       "LabelPowerset(classifier=ExtraTreeClassifier(class_weight=None, criterion='gini', max_depth=None,\n",
       "          max_features='auto', max_leaf_nodes=None,\n",
       "          min_impurity_decrease=0.0, min_impurity_split=None,\n",
       "          min_samples_leaf=1, min_samples_split=2,\n",
       "          min_weight_fraction_leaf=0.0, random_state=None,\n",
       "          splitter='random'),\n",
       "       require_dense=[True, True])"
      ]
     },
     "execution_count": 84,
     "metadata": {},
     "output_type": "execute_result"
    }
   ],
   "source": [
    "mod_ensemble_ExtraTree.fit(Xtrain,ytrain)"
   ]
  },
  {
   "cell_type": "code",
   "execution_count": 85,
   "metadata": {},
   "outputs": [],
   "source": [
    "# predict\n",
    "pred_ensemble_ExtraTree = mod_ensemble_ExtraTree.predict(Xdev)"
   ]
  },
  {
   "cell_type": "code",
   "execution_count": 86,
   "metadata": {},
   "outputs": [
    {
     "name": "stdout",
     "output_type": "stream",
     "text": [
      "<class 'scipy.sparse.lil.lil_matrix'>\n",
      "(402512, 30)\n"
     ]
    }
   ],
   "source": [
    "print(type(pred_ensemble_ExtraTree))\n",
    "print(pred_ensemble_ExtraTree.shape)"
   ]
  },
  {
   "cell_type": "code",
   "execution_count": 87,
   "metadata": {},
   "outputs": [
    {
     "data": {
      "text/plain": [
       "array([[0, 0, 0, ..., 0, 0, 0],\n",
       "       [0, 0, 0, ..., 0, 0, 0],\n",
       "       [0, 0, 0, ..., 0, 0, 0],\n",
       "       ...,\n",
       "       [0, 0, 0, ..., 0, 0, 0],\n",
       "       [0, 0, 0, ..., 0, 0, 0],\n",
       "       [0, 0, 0, ..., 0, 0, 0]], dtype=int64)"
      ]
     },
     "execution_count": 87,
     "metadata": {},
     "output_type": "execute_result"
    }
   ],
   "source": [
    "pred_ensemble_ExtraTree2 = np.array(pred_ensemble_ExtraTree.todense())\n",
    "pred_ensemble_ExtraTree2"
   ]
  },
  {
   "cell_type": "code",
   "execution_count": 88,
   "metadata": {},
   "outputs": [
    {
     "name": "stdout",
     "output_type": "stream",
     "text": [
      "[ 7061  8275  8551  8270 37374 14213  7392 25963  7059 23758 11320 46049\n",
      " 10631 13719 13604 13610  8748  8061  7212  9862  8258  7703  7394 10497\n",
      "  7906 20866 15349 16768  7616  9423]\n",
      "(402512, 30)\n"
     ]
    }
   ],
   "source": [
    "\n",
    "print(np.sum(pred_ensemble_ExtraTree2,axis=0))\n",
    "print(pred_ensemble_ExtraTree2.shape)"
   ]
  },
  {
   "cell_type": "code",
   "execution_count": 89,
   "metadata": {},
   "outputs": [
    {
     "data": {
      "text/plain": [
       "0.9995801367412649"
      ]
     },
     "execution_count": 89,
     "metadata": {},
     "output_type": "execute_result"
    }
   ],
   "source": [
    "ham=hamming_score(ydev,pred_ensemble_ExtraTree2)\n",
    "ham"
   ]
  },
  {
   "cell_type": "code",
   "execution_count": 90,
   "metadata": {},
   "outputs": [
    {
     "data": {
      "text/plain": [
       "[{'model': 'Logistic Regression ', 'accuracy': 0.4404812775768176},\n",
       " {'model': 'Ridge - Logistic Regression ', 'accuracy': 0.24100151051397226},\n",
       " {'model': 'Decision Tree Classifier ', 'accuracy': 1.0},\n",
       " {'model': 'Decision Tree Classifier ', 'accuracy': 0.9995205111897285},\n",
       " {'model': 'ensemble-Decision Tree Classifier ',\n",
       "  'accuracy': 0.9995801367412649}]"
      ]
     },
     "execution_count": 90,
     "metadata": {},
     "output_type": "execute_result"
    }
   ],
   "source": [
    "res.append({'model':'ensemble-Decision Tree Classifier ','accuracy':ham})\n",
    "res"
   ]
  },
  {
   "cell_type": "markdown",
   "metadata": {},
   "source": [
    "# sklearn.ensemble.RandomForestClassifier"
   ]
  },
  {
   "cell_type": "code",
   "execution_count": 91,
   "metadata": {},
   "outputs": [],
   "source": [
    "from sklearn.ensemble import RandomForestClassifier\n"
   ]
  },
  {
   "cell_type": "code",
   "execution_count": 92,
   "metadata": {},
   "outputs": [],
   "source": [
    "# initialize label powerset multi-label classifier\n",
    "mod_RandomForest = LabelPowerset(RandomForestClassifier())"
   ]
  },
  {
   "cell_type": "code",
   "execution_count": 93,
   "metadata": {},
   "outputs": [
    {
     "name": "stderr",
     "output_type": "stream",
     "text": [
      "F:\\Anaconda\\lib\\site-packages\\sklearn\\ensemble\\forest.py:246: FutureWarning: The default value of n_estimators will change from 10 in version 0.20 to 100 in 0.22.\n",
      "  \"10 in version 0.20 to 100 in 0.22.\", FutureWarning)\n"
     ]
    },
    {
     "data": {
      "text/plain": [
       "LabelPowerset(classifier=RandomForestClassifier(bootstrap=True, class_weight=None, criterion='gini',\n",
       "            max_depth=None, max_features='auto', max_leaf_nodes=None,\n",
       "            min_impurity_decrease=0.0, min_impurity_split=None,\n",
       "            min_samples_leaf=1, min_samples_split=2,\n",
       "            min_weight_fraction_leaf=0.0, n_estimators=10, n_jobs=None,\n",
       "            oob_score=False, random_state=None, verbose=0,\n",
       "            warm_start=False),\n",
       "       require_dense=[True, True])"
      ]
     },
     "execution_count": 93,
     "metadata": {},
     "output_type": "execute_result"
    }
   ],
   "source": [
    "mod_RandomForest.fit(Xtrain,ytrain)"
   ]
  },
  {
   "cell_type": "code",
   "execution_count": 94,
   "metadata": {},
   "outputs": [],
   "source": [
    "# predict\n",
    "pred_RandomForest = mod_RandomForest.predict(Xdev)"
   ]
  },
  {
   "cell_type": "code",
   "execution_count": 95,
   "metadata": {},
   "outputs": [
    {
     "name": "stdout",
     "output_type": "stream",
     "text": [
      "<class 'scipy.sparse.lil.lil_matrix'>\n",
      "(402512, 30)\n"
     ]
    }
   ],
   "source": [
    "print(type(pred_RandomForest))\n",
    "print(pred_RandomForest.shape)"
   ]
  },
  {
   "cell_type": "code",
   "execution_count": 96,
   "metadata": {},
   "outputs": [
    {
     "data": {
      "text/plain": [
       "array([[0, 0, 0, ..., 0, 0, 0],\n",
       "       [0, 0, 0, ..., 0, 0, 0],\n",
       "       [0, 0, 0, ..., 0, 0, 0],\n",
       "       ...,\n",
       "       [0, 0, 0, ..., 0, 0, 0],\n",
       "       [0, 0, 0, ..., 0, 0, 0],\n",
       "       [0, 0, 0, ..., 0, 0, 0]], dtype=int64)"
      ]
     },
     "execution_count": 96,
     "metadata": {},
     "output_type": "execute_result"
    }
   ],
   "source": [
    "pred_RandomForest2 = np.array(pred_RandomForest.todense())\n",
    "pred_RandomForest2"
   ]
  },
  {
   "cell_type": "code",
   "execution_count": 97,
   "metadata": {},
   "outputs": [
    {
     "name": "stdout",
     "output_type": "stream",
     "text": [
      "[ 7061  8275  8551  8270 37374 14213  7392 25963  7059 23758 11320 46049\n",
      " 10631 13719 13604 13610  8748  8061  7212  9862  8258  7703  7394 10497\n",
      "  7906 20866 15349 16768  7616  9423]\n",
      "(402512, 30)\n"
     ]
    }
   ],
   "source": [
    "print(np.sum(pred_ensemble_ExtraTree2,axis=0))\n",
    "print(pred_ensemble_ExtraTree2.shape)"
   ]
  },
  {
   "cell_type": "code",
   "execution_count": 98,
   "metadata": {},
   "outputs": [
    {
     "data": {
      "text/plain": [
       "0.9995801367412649"
      ]
     },
     "execution_count": 98,
     "metadata": {},
     "output_type": "execute_result"
    }
   ],
   "source": [
    "ham=hamming_score(ydev,pred_ensemble_ExtraTree2)\n",
    "ham"
   ]
  },
  {
   "cell_type": "code",
   "execution_count": 99,
   "metadata": {},
   "outputs": [
    {
     "data": {
      "text/plain": [
       "[{'model': 'Logistic Regression ', 'accuracy': 0.4404812775768176},\n",
       " {'model': 'Ridge - Logistic Regression ', 'accuracy': 0.24100151051397226},\n",
       " {'model': 'Decision Tree Classifier ', 'accuracy': 1.0},\n",
       " {'model': 'Decision Tree Classifier ', 'accuracy': 0.9995205111897285},\n",
       " {'model': 'ensemble-Decision Tree Classifier ',\n",
       "  'accuracy': 0.9995801367412649},\n",
       " {'model': 'Random Forest ', 'accuracy': 0.9995801367412649}]"
      ]
     },
     "execution_count": 99,
     "metadata": {},
     "output_type": "execute_result"
    }
   ],
   "source": [
    "res.append({'model':'Random Forest ','accuracy':ham})\n",
    "res"
   ]
  },
  {
   "cell_type": "markdown",
   "metadata": {},
   "source": [
    "# sklearn.neighbors.KNeighborsClassifier"
   ]
  },
  {
   "cell_type": "code",
   "execution_count": 31,
   "metadata": {},
   "outputs": [],
   "source": [
    "from sklearn.neighbors import KNeighborsClassifier"
   ]
  },
  {
   "cell_type": "code",
   "execution_count": 32,
   "metadata": {},
   "outputs": [],
   "source": [
    "# initialize label powerset multi-label classifier\n",
    "mod_KNeighbors = LabelPowerset(KNeighborsClassifier(n_neighbors=3))"
   ]
  },
  {
   "cell_type": "code",
   "execution_count": 33,
   "metadata": {},
   "outputs": [
    {
     "data": {
      "text/plain": [
       "LabelPowerset(classifier=KNeighborsClassifier(algorithm='auto', leaf_size=30, metric='minkowski',\n",
       "           metric_params=None, n_jobs=1, n_neighbors=3, p=2,\n",
       "           weights='uniform'),\n",
       "       require_dense=[True, True])"
      ]
     },
     "execution_count": 33,
     "metadata": {},
     "output_type": "execute_result"
    }
   ],
   "source": [
    "mod_KNeighbors.fit(Xtrain,ytrain)"
   ]
  },
  {
   "cell_type": "code",
   "execution_count": 34,
   "metadata": {},
   "outputs": [],
   "source": [
    "# predict\n",
    "pred_KNeighbors = mod_KNeighbors.predict(Xdev)"
   ]
  },
  {
   "cell_type": "code",
   "execution_count": 35,
   "metadata": {},
   "outputs": [
    {
     "name": "stdout",
     "output_type": "stream",
     "text": [
      "<class 'scipy.sparse.lil.lil_matrix'>\n",
      "(402512, 30)\n"
     ]
    }
   ],
   "source": [
    "print(type(pred_KNeighbors))\n",
    "print(pred_KNeighbors.shape)"
   ]
  },
  {
   "cell_type": "code",
   "execution_count": 36,
   "metadata": {},
   "outputs": [
    {
     "data": {
      "text/plain": [
       "array([[0, 0, 0, ..., 0, 0, 0],\n",
       "       [0, 0, 0, ..., 0, 0, 0],\n",
       "       [0, 0, 0, ..., 0, 0, 0],\n",
       "       ...,\n",
       "       [0, 0, 0, ..., 0, 0, 0],\n",
       "       [0, 0, 0, ..., 0, 0, 0],\n",
       "       [0, 0, 0, ..., 0, 0, 0]], dtype=int64)"
      ]
     },
     "execution_count": 36,
     "metadata": {},
     "output_type": "execute_result"
    }
   ],
   "source": [
    "pred_KNeighbors2 = np.array(pred_KNeighbors.todense())\n",
    "pred_KNeighbors2"
   ]
  },
  {
   "cell_type": "code",
   "execution_count": 37,
   "metadata": {},
   "outputs": [
    {
     "name": "stdout",
     "output_type": "stream",
     "text": [
      "[ 6999  8280  8590  8298 37371 14222  7398 25957  7155 23760 11341 46046\n",
      " 10665 13745 13674 13539  8682  8051  7199  9858  8245  7634  7395 10533\n",
      "  7963 20837 15361 16790  7546  9378]\n",
      "(402512, 30)\n"
     ]
    }
   ],
   "source": [
    "print(np.sum(pred_KNeighbors2,axis=0))\n",
    "print(pred_KNeighbors2.shape)"
   ]
  },
  {
   "cell_type": "code",
   "execution_count": 38,
   "metadata": {},
   "outputs": [
    {
     "data": {
      "text/plain": [
       "0.9965019676432006"
      ]
     },
     "execution_count": 38,
     "metadata": {},
     "output_type": "execute_result"
    }
   ],
   "source": [
    "ham=hamming_score(ydev,pred_KNeighbors2)\n",
    "ham"
   ]
  },
  {
   "cell_type": "code",
   "execution_count": 39,
   "metadata": {},
   "outputs": [
    {
     "data": {
      "text/plain": [
       "[{'model': 'Logistic Regression ', 'accuracy': 0.4404812775768176},\n",
       " {'model': 'KNeighbors ', 'accuracy': 0.9965019676432006}]"
      ]
     },
     "execution_count": 39,
     "metadata": {},
     "output_type": "execute_result"
    }
   ],
   "source": [
    "res.append({'model':'KNeighbors ','accuracy':ham})\n",
    "res"
   ]
  }
 ],
 "metadata": {
  "kernelspec": {
   "display_name": "Python 3",
   "language": "python",
   "name": "python3"
  },
  "language_info": {
   "codemirror_mode": {
    "name": "ipython",
    "version": 3
   },
   "file_extension": ".py",
   "mimetype": "text/x-python",
   "name": "python",
   "nbconvert_exporter": "python",
   "pygments_lexer": "ipython3",
   "version": "3.7.1"
  }
 },
 "nbformat": 4,
 "nbformat_minor": 2
}
