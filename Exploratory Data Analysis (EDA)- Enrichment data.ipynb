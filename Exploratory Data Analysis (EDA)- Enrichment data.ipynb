{
 "cells": [
  {
   "cell_type": "code",
   "execution_count": 1,
   "metadata": {},
   "outputs": [],
   "source": [
    "import numpy as np\n",
    "import pandas as pd\n",
    "import matplotlib.pyplot as plt\n",
    "import seaborn as sns\n"
   ]
  },
  {
   "cell_type": "code",
   "execution_count": 2,
   "metadata": {},
   "outputs": [],
   "source": [
    "import pyodbc \n",
    "conn = pyodbc.connect('Driver={SQL Server};'\n",
    "                      'Server=ILD06054\\SQLEXPRESS;'\n",
    "                      'Database=project;'\n",
    "                      'Trusted_Connection=yes;')\n",
    "\n",
    "cursor = conn.cursor()\n",
    "cursor.execute('SELECT * FROM project.dbo.flat_file_final')\n",
    "sql= ('SELECT * FROM project.dbo.flat_file_final')\n",
    "data = cursor.fetchall()\n",
    "df = pd.read_sql(sql,conn)\n",
    "\n",
    "#for row in cursor:\n",
    "    #print(row)"
   ]
  },
  {
   "cell_type": "code",
   "execution_count": 3,
   "metadata": {},
   "outputs": [
    {
     "data": {
      "text/plain": [
       "pandas.core.frame.DataFrame"
      ]
     },
     "execution_count": 3,
     "metadata": {},
     "output_type": "execute_result"
    }
   ],
   "source": [
    "type(df)"
   ]
  },
  {
   "cell_type": "code",
   "execution_count": 6,
   "metadata": {},
   "outputs": [
    {
     "data": {
      "text/html": [
       "<div>\n",
       "<style scoped>\n",
       "    .dataframe tbody tr th:only-of-type {\n",
       "        vertical-align: middle;\n",
       "    }\n",
       "\n",
       "    .dataframe tbody tr th {\n",
       "        vertical-align: top;\n",
       "    }\n",
       "\n",
       "    .dataframe thead th {\n",
       "        text-align: right;\n",
       "    }\n",
       "</style>\n",
       "<table border=\"1\" class=\"dataframe\">\n",
       "  <thead>\n",
       "    <tr style=\"text-align: right;\">\n",
       "      <th></th>\n",
       "      <th>product_id</th>\n",
       "      <th>product_name</th>\n",
       "      <th>user_id</th>\n",
       "      <th>department_id</th>\n",
       "      <th>department</th>\n",
       "      <th>order_id</th>\n",
       "      <th>order_number</th>\n",
       "      <th>order_dow</th>\n",
       "      <th>order_hour_of_day</th>\n",
       "      <th>days_since_prior_order</th>\n",
       "      <th>reordered</th>\n",
       "    </tr>\n",
       "  </thead>\n",
       "  <tbody>\n",
       "    <tr>\n",
       "      <th>0</th>\n",
       "      <td>5876</td>\n",
       "      <td>Organic Lemon</td>\n",
       "      <td>28568</td>\n",
       "      <td>4</td>\n",
       "      <td>produce</td>\n",
       "      <td>55441</td>\n",
       "      <td>5</td>\n",
       "      <td>0</td>\n",
       "      <td>11</td>\n",
       "      <td>28.0</td>\n",
       "      <td>0</td>\n",
       "    </tr>\n",
       "    <tr>\n",
       "      <th>1</th>\n",
       "      <td>13176</td>\n",
       "      <td>Bag of Organic Bananas</td>\n",
       "      <td>28568</td>\n",
       "      <td>4</td>\n",
       "      <td>produce</td>\n",
       "      <td>55441</td>\n",
       "      <td>5</td>\n",
       "      <td>0</td>\n",
       "      <td>11</td>\n",
       "      <td>28.0</td>\n",
       "      <td>1</td>\n",
       "    </tr>\n",
       "    <tr>\n",
       "      <th>2</th>\n",
       "      <td>27966</td>\n",
       "      <td>Organic Raspberries</td>\n",
       "      <td>28568</td>\n",
       "      <td>4</td>\n",
       "      <td>produce</td>\n",
       "      <td>55441</td>\n",
       "      <td>5</td>\n",
       "      <td>0</td>\n",
       "      <td>11</td>\n",
       "      <td>28.0</td>\n",
       "      <td>1</td>\n",
       "    </tr>\n",
       "    <tr>\n",
       "      <th>3</th>\n",
       "      <td>39275</td>\n",
       "      <td>Organic Blueberries</td>\n",
       "      <td>28568</td>\n",
       "      <td>4</td>\n",
       "      <td>produce</td>\n",
       "      <td>55441</td>\n",
       "      <td>5</td>\n",
       "      <td>0</td>\n",
       "      <td>11</td>\n",
       "      <td>28.0</td>\n",
       "      <td>0</td>\n",
       "    </tr>\n",
       "    <tr>\n",
       "      <th>4</th>\n",
       "      <td>22935</td>\n",
       "      <td>Organic Yellow Onion</td>\n",
       "      <td>28568</td>\n",
       "      <td>4</td>\n",
       "      <td>produce</td>\n",
       "      <td>55441</td>\n",
       "      <td>5</td>\n",
       "      <td>0</td>\n",
       "      <td>11</td>\n",
       "      <td>28.0</td>\n",
       "      <td>1</td>\n",
       "    </tr>\n",
       "  </tbody>\n",
       "</table>\n",
       "</div>"
      ],
      "text/plain": [
       "   product_id            product_name  user_id  department_id department  \\\n",
       "0        5876           Organic Lemon    28568              4    produce   \n",
       "1       13176  Bag of Organic Bananas    28568              4    produce   \n",
       "2       27966     Organic Raspberries    28568              4    produce   \n",
       "3       39275     Organic Blueberries    28568              4    produce   \n",
       "4       22935    Organic Yellow Onion    28568              4    produce   \n",
       "\n",
       "   order_id  order_number  order_dow  order_hour_of_day  \\\n",
       "0     55441             5          0                 11   \n",
       "1     55441             5          0                 11   \n",
       "2     55441             5          0                 11   \n",
       "3     55441             5          0                 11   \n",
       "4     55441             5          0                 11   \n",
       "\n",
       "  days_since_prior_order  reordered  \n",
       "0                   28.0          0  \n",
       "1                   28.0          1  \n",
       "2                   28.0          1  \n",
       "3                   28.0          0  \n",
       "4                   28.0          1  "
      ]
     },
     "execution_count": 6,
     "metadata": {},
     "output_type": "execute_result"
    }
   ],
   "source": [
    "df.head()"
   ]
  },
  {
   "cell_type": "code",
   "execution_count": 4,
   "metadata": {},
   "outputs": [
    {
     "data": {
      "text/plain": [
       "product_id                  int64\n",
       "product_name               object\n",
       "user_id                     int64\n",
       "department_id               int64\n",
       "department                 object\n",
       "order_id                    int64\n",
       "order_number                int64\n",
       "order_dow                   int64\n",
       "order_hour_of_day           int64\n",
       "days_since_prior_order    float64\n",
       "reordered                   int64\n",
       "dtype: object"
      ]
     },
     "execution_count": 4,
     "metadata": {},
     "output_type": "execute_result"
    }
   ],
   "source": [
    "df.dtypes"
   ]
  },
  {
   "cell_type": "code",
   "execution_count": 5,
   "metadata": {},
   "outputs": [
    {
     "data": {
      "text/plain": [
       "(4266433, 11)"
      ]
     },
     "execution_count": 5,
     "metadata": {},
     "output_type": "execute_result"
    }
   ],
   "source": [
    "df.shape"
   ]
  },
  {
   "cell_type": "code",
   "execution_count": 6,
   "metadata": {},
   "outputs": [
    {
     "data": {
      "text/html": [
       "<div>\n",
       "<style scoped>\n",
       "    .dataframe tbody tr th:only-of-type {\n",
       "        vertical-align: middle;\n",
       "    }\n",
       "\n",
       "    .dataframe tbody tr th {\n",
       "        vertical-align: top;\n",
       "    }\n",
       "\n",
       "    .dataframe thead th {\n",
       "        text-align: right;\n",
       "    }\n",
       "</style>\n",
       "<table border=\"1\" class=\"dataframe\">\n",
       "  <thead>\n",
       "    <tr style=\"text-align: right;\">\n",
       "      <th></th>\n",
       "      <th>product_id</th>\n",
       "      <th>user_id</th>\n",
       "      <th>department_id</th>\n",
       "      <th>order_id</th>\n",
       "      <th>order_number</th>\n",
       "      <th>order_dow</th>\n",
       "      <th>order_hour_of_day</th>\n",
       "      <th>days_since_prior_order</th>\n",
       "      <th>reordered</th>\n",
       "    </tr>\n",
       "  </thead>\n",
       "  <tbody>\n",
       "    <tr>\n",
       "      <th>count</th>\n",
       "      <td>4.266433e+06</td>\n",
       "      <td>4.266433e+06</td>\n",
       "      <td>4.266433e+06</td>\n",
       "      <td>4.266433e+06</td>\n",
       "      <td>4.266433e+06</td>\n",
       "      <td>4.266433e+06</td>\n",
       "      <td>4.266433e+06</td>\n",
       "      <td>4.025124e+06</td>\n",
       "      <td>4.266433e+06</td>\n",
       "    </tr>\n",
       "    <tr>\n",
       "      <th>mean</th>\n",
       "      <td>2.833460e+04</td>\n",
       "      <td>1.029210e+05</td>\n",
       "      <td>4.679622e+00</td>\n",
       "      <td>1.710412e+06</td>\n",
       "      <td>1.840892e+01</td>\n",
       "      <td>2.665776e+00</td>\n",
       "      <td>1.341232e+01</td>\n",
       "      <td>1.094071e+01</td>\n",
       "      <td>7.508846e-01</td>\n",
       "    </tr>\n",
       "    <tr>\n",
       "      <th>std</th>\n",
       "      <td>1.317267e+04</td>\n",
       "      <td>5.951753e+04</td>\n",
       "      <td>2.681806e+00</td>\n",
       "      <td>9.873701e+05</td>\n",
       "      <td>1.828686e+01</td>\n",
       "      <td>2.112515e+00</td>\n",
       "      <td>4.260521e+00</td>\n",
       "      <td>8.692847e+00</td>\n",
       "      <td>4.325008e-01</td>\n",
       "    </tr>\n",
       "    <tr>\n",
       "      <th>min</th>\n",
       "      <td>4.605000e+03</td>\n",
       "      <td>1.000000e+00</td>\n",
       "      <td>4.000000e+00</td>\n",
       "      <td>1.000000e+00</td>\n",
       "      <td>1.000000e+00</td>\n",
       "      <td>0.000000e+00</td>\n",
       "      <td>0.000000e+00</td>\n",
       "      <td>0.000000e+00</td>\n",
       "      <td>0.000000e+00</td>\n",
       "    </tr>\n",
       "    <tr>\n",
       "      <th>25%</th>\n",
       "      <td>2.113700e+04</td>\n",
       "      <td>5.115300e+04</td>\n",
       "      <td>4.000000e+00</td>\n",
       "      <td>8.550860e+05</td>\n",
       "      <td>5.000000e+00</td>\n",
       "      <td>1.000000e+00</td>\n",
       "      <td>1.000000e+01</td>\n",
       "      <td>5.000000e+00</td>\n",
       "      <td>1.000000e+00</td>\n",
       "    </tr>\n",
       "    <tr>\n",
       "      <th>50%</th>\n",
       "      <td>2.485200e+04</td>\n",
       "      <td>1.026110e+05</td>\n",
       "      <td>4.000000e+00</td>\n",
       "      <td>1.710271e+06</td>\n",
       "      <td>1.200000e+01</td>\n",
       "      <td>2.000000e+00</td>\n",
       "      <td>1.300000e+01</td>\n",
       "      <td>7.000000e+00</td>\n",
       "      <td>1.000000e+00</td>\n",
       "    </tr>\n",
       "    <tr>\n",
       "      <th>75%</th>\n",
       "      <td>4.226500e+04</td>\n",
       "      <td>1.544660e+05</td>\n",
       "      <td>4.000000e+00</td>\n",
       "      <td>2.565274e+06</td>\n",
       "      <td>2.600000e+01</td>\n",
       "      <td>5.000000e+00</td>\n",
       "      <td>1.600000e+01</td>\n",
       "      <td>1.400000e+01</td>\n",
       "      <td>1.000000e+00</td>\n",
       "    </tr>\n",
       "    <tr>\n",
       "      <th>max</th>\n",
       "      <td>4.968300e+04</td>\n",
       "      <td>2.062090e+05</td>\n",
       "      <td>1.600000e+01</td>\n",
       "      <td>3.421083e+06</td>\n",
       "      <td>1.000000e+02</td>\n",
       "      <td>6.000000e+00</td>\n",
       "      <td>2.300000e+01</td>\n",
       "      <td>3.000000e+01</td>\n",
       "      <td>1.000000e+00</td>\n",
       "    </tr>\n",
       "  </tbody>\n",
       "</table>\n",
       "</div>"
      ],
      "text/plain": [
       "         product_id       user_id  department_id      order_id  order_number  \\\n",
       "count  4.266433e+06  4.266433e+06   4.266433e+06  4.266433e+06  4.266433e+06   \n",
       "mean   2.833460e+04  1.029210e+05   4.679622e+00  1.710412e+06  1.840892e+01   \n",
       "std    1.317267e+04  5.951753e+04   2.681806e+00  9.873701e+05  1.828686e+01   \n",
       "min    4.605000e+03  1.000000e+00   4.000000e+00  1.000000e+00  1.000000e+00   \n",
       "25%    2.113700e+04  5.115300e+04   4.000000e+00  8.550860e+05  5.000000e+00   \n",
       "50%    2.485200e+04  1.026110e+05   4.000000e+00  1.710271e+06  1.200000e+01   \n",
       "75%    4.226500e+04  1.544660e+05   4.000000e+00  2.565274e+06  2.600000e+01   \n",
       "max    4.968300e+04  2.062090e+05   1.600000e+01  3.421083e+06  1.000000e+02   \n",
       "\n",
       "          order_dow  order_hour_of_day  days_since_prior_order     reordered  \n",
       "count  4.266433e+06       4.266433e+06            4.025124e+06  4.266433e+06  \n",
       "mean   2.665776e+00       1.341232e+01            1.094071e+01  7.508846e-01  \n",
       "std    2.112515e+00       4.260521e+00            8.692847e+00  4.325008e-01  \n",
       "min    0.000000e+00       0.000000e+00            0.000000e+00  0.000000e+00  \n",
       "25%    1.000000e+00       1.000000e+01            5.000000e+00  1.000000e+00  \n",
       "50%    2.000000e+00       1.300000e+01            7.000000e+00  1.000000e+00  \n",
       "75%    5.000000e+00       1.600000e+01            1.400000e+01  1.000000e+00  \n",
       "max    6.000000e+00       2.300000e+01            3.000000e+01  1.000000e+00  "
      ]
     },
     "execution_count": 6,
     "metadata": {},
     "output_type": "execute_result"
    }
   ],
   "source": [
    "df.describe()"
   ]
  },
  {
   "cell_type": "markdown",
   "metadata": {},
   "source": [
    "# Data enrichment and transformation\n"
   ]
  },
  {
   "cell_type": "markdown",
   "metadata": {},
   "source": [
    "# Adding new column - populatity of the products, by PRODUCT_ID"
   ]
  },
  {
   "cell_type": "code",
   "execution_count": 7,
   "metadata": {},
   "outputs": [
    {
     "data": {
      "text/html": [
       "<div>\n",
       "<style scoped>\n",
       "    .dataframe tbody tr th:only-of-type {\n",
       "        vertical-align: middle;\n",
       "    }\n",
       "\n",
       "    .dataframe tbody tr th {\n",
       "        vertical-align: top;\n",
       "    }\n",
       "\n",
       "    .dataframe thead th {\n",
       "        text-align: right;\n",
       "    }\n",
       "</style>\n",
       "<table border=\"1\" class=\"dataframe\">\n",
       "  <thead>\n",
       "    <tr style=\"text-align: right;\">\n",
       "      <th></th>\n",
       "      <th>product_id</th>\n",
       "    </tr>\n",
       "    <tr>\n",
       "      <th>product_id</th>\n",
       "      <th></th>\n",
       "    </tr>\n",
       "  </thead>\n",
       "  <tbody>\n",
       "    <tr>\n",
       "      <th>4605</th>\n",
       "      <td>76929</td>\n",
       "    </tr>\n",
       "    <tr>\n",
       "      <th>4920</th>\n",
       "      <td>86748</td>\n",
       "    </tr>\n",
       "    <tr>\n",
       "      <th>5876</th>\n",
       "      <td>91251</td>\n",
       "    </tr>\n",
       "    <tr>\n",
       "      <th>8277</th>\n",
       "      <td>87272</td>\n",
       "    </tr>\n",
       "    <tr>\n",
       "      <th>13176</th>\n",
       "      <td>394930</td>\n",
       "    </tr>\n",
       "    <tr>\n",
       "      <th>16797</th>\n",
       "      <td>149445</td>\n",
       "    </tr>\n",
       "    <tr>\n",
       "      <th>19057</th>\n",
       "      <td>78056</td>\n",
       "    </tr>\n",
       "    <tr>\n",
       "      <th>21137</th>\n",
       "      <td>275577</td>\n",
       "    </tr>\n",
       "    <tr>\n",
       "      <th>21616</th>\n",
       "      <td>75752</td>\n",
       "    </tr>\n",
       "    <tr>\n",
       "      <th>21903</th>\n",
       "      <td>251705</td>\n",
       "    </tr>\n",
       "    <tr>\n",
       "      <th>22935</th>\n",
       "      <td>117716</td>\n",
       "    </tr>\n",
       "    <tr>\n",
       "      <th>24852</th>\n",
       "      <td>491291</td>\n",
       "    </tr>\n",
       "    <tr>\n",
       "      <th>24964</th>\n",
       "      <td>113936</td>\n",
       "    </tr>\n",
       "    <tr>\n",
       "      <th>26209</th>\n",
       "      <td>146660</td>\n",
       "    </tr>\n",
       "    <tr>\n",
       "      <th>27845</th>\n",
       "      <td>142813</td>\n",
       "    </tr>\n",
       "    <tr>\n",
       "      <th>27966</th>\n",
       "      <td>142603</td>\n",
       "    </tr>\n",
       "    <tr>\n",
       "      <th>28204</th>\n",
       "      <td>92889</td>\n",
       "    </tr>\n",
       "    <tr>\n",
       "      <th>30391</th>\n",
       "      <td>85005</td>\n",
       "    </tr>\n",
       "    <tr>\n",
       "      <th>37646</th>\n",
       "      <td>75655</td>\n",
       "    </tr>\n",
       "    <tr>\n",
       "      <th>39275</th>\n",
       "      <td>105026</td>\n",
       "    </tr>\n",
       "    <tr>\n",
       "      <th>40706</th>\n",
       "      <td>88078</td>\n",
       "    </tr>\n",
       "    <tr>\n",
       "      <th>42265</th>\n",
       "      <td>80493</td>\n",
       "    </tr>\n",
       "    <tr>\n",
       "      <th>44632</th>\n",
       "      <td>79245</td>\n",
       "    </tr>\n",
       "    <tr>\n",
       "      <th>45007</th>\n",
       "      <td>109412</td>\n",
       "    </tr>\n",
       "    <tr>\n",
       "      <th>45066</th>\n",
       "      <td>83320</td>\n",
       "    </tr>\n",
       "    <tr>\n",
       "      <th>47209</th>\n",
       "      <td>220877</td>\n",
       "    </tr>\n",
       "    <tr>\n",
       "      <th>47626</th>\n",
       "      <td>160791</td>\n",
       "    </tr>\n",
       "    <tr>\n",
       "      <th>47766</th>\n",
       "      <td>184224</td>\n",
       "    </tr>\n",
       "    <tr>\n",
       "      <th>49235</th>\n",
       "      <td>79006</td>\n",
       "    </tr>\n",
       "    <tr>\n",
       "      <th>49683</th>\n",
       "      <td>99728</td>\n",
       "    </tr>\n",
       "  </tbody>\n",
       "</table>\n",
       "</div>"
      ],
      "text/plain": [
       "            product_id\n",
       "product_id            \n",
       "4605             76929\n",
       "4920             86748\n",
       "5876             91251\n",
       "8277             87272\n",
       "13176           394930\n",
       "16797           149445\n",
       "19057            78056\n",
       "21137           275577\n",
       "21616            75752\n",
       "21903           251705\n",
       "22935           117716\n",
       "24852           491291\n",
       "24964           113936\n",
       "26209           146660\n",
       "27845           142813\n",
       "27966           142603\n",
       "28204            92889\n",
       "30391            85005\n",
       "37646            75655\n",
       "39275           105026\n",
       "40706            88078\n",
       "42265            80493\n",
       "44632            79245\n",
       "45007           109412\n",
       "45066            83320\n",
       "47209           220877\n",
       "47626           160791\n",
       "47766           184224\n",
       "49235            79006\n",
       "49683            99728"
      ]
     },
     "execution_count": 7,
     "metadata": {},
     "output_type": "execute_result"
    }
   ],
   "source": [
    "product_popularity = df.groupby('product_id')['product_id'].count().to_frame()\n",
    "product_popularity"
   ]
  },
  {
   "cell_type": "code",
   "execution_count": 8,
   "metadata": {},
   "outputs": [
    {
     "data": {
      "text/plain": [
       "pandas.core.frame.DataFrame"
      ]
     },
     "execution_count": 8,
     "metadata": {},
     "output_type": "execute_result"
    }
   ],
   "source": [
    "type(product_popularity)"
   ]
  },
  {
   "cell_type": "code",
   "execution_count": 9,
   "metadata": {
    "scrolled": true
   },
   "outputs": [
    {
     "data": {
      "text/plain": [
       "Index(['product_id'], dtype='object')"
      ]
     },
     "execution_count": 9,
     "metadata": {},
     "output_type": "execute_result"
    }
   ],
   "source": [
    "product_popularity.columns"
   ]
  },
  {
   "cell_type": "code",
   "execution_count": 10,
   "metadata": {},
   "outputs": [],
   "source": [
    "product_popularity2 = product_popularity.copy()"
   ]
  },
  {
   "cell_type": "code",
   "execution_count": 11,
   "metadata": {},
   "outputs": [],
   "source": [
    "product_popularity2 =  product_popularity2['product_id']"
   ]
  },
  {
   "cell_type": "code",
   "execution_count": 12,
   "metadata": {},
   "outputs": [],
   "source": [
    "product_popularity2 = product_popularity2/product_popularity2.sum()"
   ]
  },
  {
   "cell_type": "code",
   "execution_count": 13,
   "metadata": {},
   "outputs": [
    {
     "data": {
      "text/plain": [
       "product_id\n",
       "4605     0.018031\n",
       "4920     0.020333\n",
       "5876     0.021388\n",
       "8277     0.020455\n",
       "13176    0.092567\n",
       "16797    0.035028\n",
       "19057    0.018295\n",
       "21137    0.064592\n",
       "21616    0.017755\n",
       "21903    0.058997\n",
       "22935    0.027591\n",
       "24852    0.115153\n",
       "24964    0.026705\n",
       "26209    0.034375\n",
       "27845    0.033474\n",
       "27966    0.033424\n",
       "28204    0.021772\n",
       "30391    0.019924\n",
       "37646    0.017733\n",
       "39275    0.024617\n",
       "40706    0.020644\n",
       "42265    0.018867\n",
       "44632    0.018574\n",
       "45007    0.025645\n",
       "45066    0.019529\n",
       "47209    0.051771\n",
       "47626    0.037687\n",
       "47766    0.043180\n",
       "49235    0.018518\n",
       "49683    0.023375\n",
       "Name: product_id, dtype: float64"
      ]
     },
     "execution_count": 13,
     "metadata": {},
     "output_type": "execute_result"
    }
   ],
   "source": [
    "product_popularity2"
   ]
  },
  {
   "cell_type": "code",
   "execution_count": 14,
   "metadata": {},
   "outputs": [
    {
     "data": {
      "text/plain": [
       "pandas.core.series.Series"
      ]
     },
     "execution_count": 14,
     "metadata": {},
     "output_type": "execute_result"
    }
   ],
   "source": [
    "type(product_popularity2)"
   ]
  },
  {
   "cell_type": "code",
   "execution_count": 16,
   "metadata": {},
   "outputs": [
    {
     "data": {
      "text/html": [
       "<div>\n",
       "<style scoped>\n",
       "    .dataframe tbody tr th:only-of-type {\n",
       "        vertical-align: middle;\n",
       "    }\n",
       "\n",
       "    .dataframe tbody tr th {\n",
       "        vertical-align: top;\n",
       "    }\n",
       "\n",
       "    .dataframe thead th {\n",
       "        text-align: right;\n",
       "    }\n",
       "</style>\n",
       "<table border=\"1\" class=\"dataframe\">\n",
       "  <thead>\n",
       "    <tr style=\"text-align: right;\">\n",
       "      <th></th>\n",
       "      <th>product_popularity_cnt</th>\n",
       "    </tr>\n",
       "    <tr>\n",
       "      <th>product_id</th>\n",
       "      <th></th>\n",
       "    </tr>\n",
       "  </thead>\n",
       "  <tbody>\n",
       "    <tr>\n",
       "      <th>4605</th>\n",
       "      <td>0.018031</td>\n",
       "    </tr>\n",
       "    <tr>\n",
       "      <th>4920</th>\n",
       "      <td>0.020333</td>\n",
       "    </tr>\n",
       "    <tr>\n",
       "      <th>5876</th>\n",
       "      <td>0.021388</td>\n",
       "    </tr>\n",
       "    <tr>\n",
       "      <th>8277</th>\n",
       "      <td>0.020455</td>\n",
       "    </tr>\n",
       "    <tr>\n",
       "      <th>13176</th>\n",
       "      <td>0.092567</td>\n",
       "    </tr>\n",
       "    <tr>\n",
       "      <th>16797</th>\n",
       "      <td>0.035028</td>\n",
       "    </tr>\n",
       "    <tr>\n",
       "      <th>19057</th>\n",
       "      <td>0.018295</td>\n",
       "    </tr>\n",
       "    <tr>\n",
       "      <th>21137</th>\n",
       "      <td>0.064592</td>\n",
       "    </tr>\n",
       "    <tr>\n",
       "      <th>21616</th>\n",
       "      <td>0.017755</td>\n",
       "    </tr>\n",
       "    <tr>\n",
       "      <th>21903</th>\n",
       "      <td>0.058997</td>\n",
       "    </tr>\n",
       "    <tr>\n",
       "      <th>22935</th>\n",
       "      <td>0.027591</td>\n",
       "    </tr>\n",
       "    <tr>\n",
       "      <th>24852</th>\n",
       "      <td>0.115153</td>\n",
       "    </tr>\n",
       "    <tr>\n",
       "      <th>24964</th>\n",
       "      <td>0.026705</td>\n",
       "    </tr>\n",
       "    <tr>\n",
       "      <th>26209</th>\n",
       "      <td>0.034375</td>\n",
       "    </tr>\n",
       "    <tr>\n",
       "      <th>27845</th>\n",
       "      <td>0.033474</td>\n",
       "    </tr>\n",
       "    <tr>\n",
       "      <th>27966</th>\n",
       "      <td>0.033424</td>\n",
       "    </tr>\n",
       "    <tr>\n",
       "      <th>28204</th>\n",
       "      <td>0.021772</td>\n",
       "    </tr>\n",
       "    <tr>\n",
       "      <th>30391</th>\n",
       "      <td>0.019924</td>\n",
       "    </tr>\n",
       "    <tr>\n",
       "      <th>37646</th>\n",
       "      <td>0.017733</td>\n",
       "    </tr>\n",
       "    <tr>\n",
       "      <th>39275</th>\n",
       "      <td>0.024617</td>\n",
       "    </tr>\n",
       "    <tr>\n",
       "      <th>40706</th>\n",
       "      <td>0.020644</td>\n",
       "    </tr>\n",
       "    <tr>\n",
       "      <th>42265</th>\n",
       "      <td>0.018867</td>\n",
       "    </tr>\n",
       "    <tr>\n",
       "      <th>44632</th>\n",
       "      <td>0.018574</td>\n",
       "    </tr>\n",
       "    <tr>\n",
       "      <th>45007</th>\n",
       "      <td>0.025645</td>\n",
       "    </tr>\n",
       "    <tr>\n",
       "      <th>45066</th>\n",
       "      <td>0.019529</td>\n",
       "    </tr>\n",
       "    <tr>\n",
       "      <th>47209</th>\n",
       "      <td>0.051771</td>\n",
       "    </tr>\n",
       "    <tr>\n",
       "      <th>47626</th>\n",
       "      <td>0.037687</td>\n",
       "    </tr>\n",
       "    <tr>\n",
       "      <th>47766</th>\n",
       "      <td>0.043180</td>\n",
       "    </tr>\n",
       "    <tr>\n",
       "      <th>49235</th>\n",
       "      <td>0.018518</td>\n",
       "    </tr>\n",
       "    <tr>\n",
       "      <th>49683</th>\n",
       "      <td>0.023375</td>\n",
       "    </tr>\n",
       "  </tbody>\n",
       "</table>\n",
       "</div>"
      ],
      "text/plain": [
       "            product_popularity_cnt\n",
       "product_id                        \n",
       "4605                      0.018031\n",
       "4920                      0.020333\n",
       "5876                      0.021388\n",
       "8277                      0.020455\n",
       "13176                     0.092567\n",
       "16797                     0.035028\n",
       "19057                     0.018295\n",
       "21137                     0.064592\n",
       "21616                     0.017755\n",
       "21903                     0.058997\n",
       "22935                     0.027591\n",
       "24852                     0.115153\n",
       "24964                     0.026705\n",
       "26209                     0.034375\n",
       "27845                     0.033474\n",
       "27966                     0.033424\n",
       "28204                     0.021772\n",
       "30391                     0.019924\n",
       "37646                     0.017733\n",
       "39275                     0.024617\n",
       "40706                     0.020644\n",
       "42265                     0.018867\n",
       "44632                     0.018574\n",
       "45007                     0.025645\n",
       "45066                     0.019529\n",
       "47209                     0.051771\n",
       "47626                     0.037687\n",
       "47766                     0.043180\n",
       "49235                     0.018518\n",
       "49683                     0.023375"
      ]
     },
     "execution_count": 16,
     "metadata": {},
     "output_type": "execute_result"
    }
   ],
   "source": [
    "product_popularity2.to_frame(name='product_popularity_cnt')"
   ]
  },
  {
   "cell_type": "code",
   "execution_count": 17,
   "metadata": {},
   "outputs": [],
   "source": [
    "df2=df"
   ]
  },
  {
   "cell_type": "code",
   "execution_count": 18,
   "metadata": {},
   "outputs": [],
   "source": [
    "df2 = product_popularity2.to_frame(name='product_popularity_cnt')"
   ]
  },
  {
   "cell_type": "code",
   "execution_count": 19,
   "metadata": {},
   "outputs": [
    {
     "data": {
      "text/plain": [
       "Index(['product_popularity_cnt'], dtype='object')"
      ]
     },
     "execution_count": 19,
     "metadata": {},
     "output_type": "execute_result"
    }
   ],
   "source": [
    "df2.columns"
   ]
  },
  {
   "cell_type": "code",
   "execution_count": 20,
   "metadata": {},
   "outputs": [],
   "source": [
    "df2['product_id'] = df2.index"
   ]
  },
  {
   "cell_type": "code",
   "execution_count": 21,
   "metadata": {},
   "outputs": [],
   "source": [
    "df.index.names=['index']"
   ]
  },
  {
   "cell_type": "code",
   "execution_count": 22,
   "metadata": {},
   "outputs": [],
   "source": [
    "df2.index.names=['index']"
   ]
  },
  {
   "cell_type": "code",
   "execution_count": 23,
   "metadata": {},
   "outputs": [],
   "source": [
    "df3 = pd.merge(df,df2, left_on='product_id',right_on='product_id')"
   ]
  },
  {
   "cell_type": "code",
   "execution_count": 24,
   "metadata": {},
   "outputs": [
    {
     "data": {
      "text/plain": [
       "(4266433, 12)"
      ]
     },
     "execution_count": 24,
     "metadata": {},
     "output_type": "execute_result"
    }
   ],
   "source": [
    "df3.shape"
   ]
  },
  {
   "cell_type": "code",
   "execution_count": 25,
   "metadata": {},
   "outputs": [
    {
     "data": {
      "text/html": [
       "<div>\n",
       "<style scoped>\n",
       "    .dataframe tbody tr th:only-of-type {\n",
       "        vertical-align: middle;\n",
       "    }\n",
       "\n",
       "    .dataframe tbody tr th {\n",
       "        vertical-align: top;\n",
       "    }\n",
       "\n",
       "    .dataframe thead th {\n",
       "        text-align: right;\n",
       "    }\n",
       "</style>\n",
       "<table border=\"1\" class=\"dataframe\">\n",
       "  <thead>\n",
       "    <tr style=\"text-align: right;\">\n",
       "      <th></th>\n",
       "      <th>product_id</th>\n",
       "      <th>product_name</th>\n",
       "      <th>user_id</th>\n",
       "      <th>department_id</th>\n",
       "      <th>department</th>\n",
       "      <th>order_id</th>\n",
       "      <th>order_number</th>\n",
       "      <th>order_dow</th>\n",
       "      <th>order_hour_of_day</th>\n",
       "      <th>days_since_prior_order</th>\n",
       "      <th>reordered</th>\n",
       "      <th>product_popularity_cnt</th>\n",
       "    </tr>\n",
       "  </thead>\n",
       "  <tbody>\n",
       "    <tr>\n",
       "      <th>0</th>\n",
       "      <td>5876</td>\n",
       "      <td>Organic Lemon</td>\n",
       "      <td>28568</td>\n",
       "      <td>4</td>\n",
       "      <td>produce</td>\n",
       "      <td>55441</td>\n",
       "      <td>5</td>\n",
       "      <td>0</td>\n",
       "      <td>11</td>\n",
       "      <td>28.0</td>\n",
       "      <td>0</td>\n",
       "      <td>0.021388</td>\n",
       "    </tr>\n",
       "    <tr>\n",
       "      <th>1</th>\n",
       "      <td>5876</td>\n",
       "      <td>Organic Lemon</td>\n",
       "      <td>28595</td>\n",
       "      <td>4</td>\n",
       "      <td>produce</td>\n",
       "      <td>172923</td>\n",
       "      <td>7</td>\n",
       "      <td>6</td>\n",
       "      <td>20</td>\n",
       "      <td>30.0</td>\n",
       "      <td>1</td>\n",
       "      <td>0.021388</td>\n",
       "    </tr>\n",
       "    <tr>\n",
       "      <th>2</th>\n",
       "      <td>5876</td>\n",
       "      <td>Organic Lemon</td>\n",
       "      <td>28631</td>\n",
       "      <td>4</td>\n",
       "      <td>produce</td>\n",
       "      <td>225732</td>\n",
       "      <td>7</td>\n",
       "      <td>6</td>\n",
       "      <td>12</td>\n",
       "      <td>30.0</td>\n",
       "      <td>1</td>\n",
       "      <td>0.021388</td>\n",
       "    </tr>\n",
       "    <tr>\n",
       "      <th>3</th>\n",
       "      <td>5876</td>\n",
       "      <td>Organic Lemon</td>\n",
       "      <td>28680</td>\n",
       "      <td>4</td>\n",
       "      <td>produce</td>\n",
       "      <td>3052709</td>\n",
       "      <td>23</td>\n",
       "      <td>4</td>\n",
       "      <td>14</td>\n",
       "      <td>16.0</td>\n",
       "      <td>1</td>\n",
       "      <td>0.021388</td>\n",
       "    </tr>\n",
       "    <tr>\n",
       "      <th>4</th>\n",
       "      <td>5876</td>\n",
       "      <td>Organic Lemon</td>\n",
       "      <td>28745</td>\n",
       "      <td>4</td>\n",
       "      <td>produce</td>\n",
       "      <td>1130353</td>\n",
       "      <td>93</td>\n",
       "      <td>5</td>\n",
       "      <td>12</td>\n",
       "      <td>4.0</td>\n",
       "      <td>1</td>\n",
       "      <td>0.021388</td>\n",
       "    </tr>\n",
       "  </tbody>\n",
       "</table>\n",
       "</div>"
      ],
      "text/plain": [
       "   product_id   product_name  user_id  department_id department  order_id  \\\n",
       "0        5876  Organic Lemon    28568              4    produce     55441   \n",
       "1        5876  Organic Lemon    28595              4    produce    172923   \n",
       "2        5876  Organic Lemon    28631              4    produce    225732   \n",
       "3        5876  Organic Lemon    28680              4    produce   3052709   \n",
       "4        5876  Organic Lemon    28745              4    produce   1130353   \n",
       "\n",
       "   order_number  order_dow  order_hour_of_day  days_since_prior_order  \\\n",
       "0             5          0                 11                    28.0   \n",
       "1             7          6                 20                    30.0   \n",
       "2             7          6                 12                    30.0   \n",
       "3            23          4                 14                    16.0   \n",
       "4            93          5                 12                     4.0   \n",
       "\n",
       "   reordered  product_popularity_cnt  \n",
       "0          0                0.021388  \n",
       "1          1                0.021388  \n",
       "2          1                0.021388  \n",
       "3          1                0.021388  \n",
       "4          1                0.021388  "
      ]
     },
     "execution_count": 25,
     "metadata": {},
     "output_type": "execute_result"
    }
   ],
   "source": [
    "df3.head()"
   ]
  },
  {
   "cell_type": "markdown",
   "metadata": {},
   "source": [
    "# Adding new column - populatity of the departments, by department_ID"
   ]
  },
  {
   "cell_type": "code",
   "execution_count": 26,
   "metadata": {},
   "outputs": [
    {
     "data": {
      "text/html": [
       "<div>\n",
       "<style scoped>\n",
       "    .dataframe tbody tr th:only-of-type {\n",
       "        vertical-align: middle;\n",
       "    }\n",
       "\n",
       "    .dataframe tbody tr th {\n",
       "        vertical-align: top;\n",
       "    }\n",
       "\n",
       "    .dataframe thead th {\n",
       "        text-align: right;\n",
       "    }\n",
       "</style>\n",
       "<table border=\"1\" class=\"dataframe\">\n",
       "  <thead>\n",
       "    <tr style=\"text-align: right;\">\n",
       "      <th></th>\n",
       "      <th>department_id</th>\n",
       "    </tr>\n",
       "    <tr>\n",
       "      <th>department_id</th>\n",
       "      <th></th>\n",
       "    </tr>\n",
       "  </thead>\n",
       "  <tbody>\n",
       "    <tr>\n",
       "      <th>4</th>\n",
       "      <td>3965369</td>\n",
       "    </tr>\n",
       "    <tr>\n",
       "      <th>7</th>\n",
       "      <td>79245</td>\n",
       "    </tr>\n",
       "    <tr>\n",
       "      <th>16</th>\n",
       "      <td>221819</td>\n",
       "    </tr>\n",
       "  </tbody>\n",
       "</table>\n",
       "</div>"
      ],
      "text/plain": [
       "               department_id\n",
       "department_id               \n",
       "4                    3965369\n",
       "7                      79245\n",
       "16                    221819"
      ]
     },
     "execution_count": 26,
     "metadata": {},
     "output_type": "execute_result"
    }
   ],
   "source": [
    "department_popularity = df.groupby('department_id')['department_id'].count().to_frame()\n",
    "department_popularity"
   ]
  },
  {
   "cell_type": "code",
   "execution_count": 27,
   "metadata": {},
   "outputs": [
    {
     "data": {
      "text/plain": [
       "pandas.core.frame.DataFrame"
      ]
     },
     "execution_count": 27,
     "metadata": {},
     "output_type": "execute_result"
    }
   ],
   "source": [
    "type(department_popularity)"
   ]
  },
  {
   "cell_type": "code",
   "execution_count": 28,
   "metadata": {},
   "outputs": [
    {
     "data": {
      "text/plain": [
       "Index(['department_id'], dtype='object')"
      ]
     },
     "execution_count": 28,
     "metadata": {},
     "output_type": "execute_result"
    }
   ],
   "source": [
    "department_popularity.columns"
   ]
  },
  {
   "cell_type": "code",
   "execution_count": 29,
   "metadata": {},
   "outputs": [],
   "source": [
    "department_popularity2 = department_popularity.copy()"
   ]
  },
  {
   "cell_type": "code",
   "execution_count": 30,
   "metadata": {},
   "outputs": [],
   "source": [
    "department_popularity2 =  department_popularity2['department_id']"
   ]
  },
  {
   "cell_type": "code",
   "execution_count": 31,
   "metadata": {},
   "outputs": [],
   "source": [
    "department_popularity2 = department_popularity2/department_popularity2.sum()"
   ]
  },
  {
   "cell_type": "code",
   "execution_count": 32,
   "metadata": {},
   "outputs": [
    {
     "data": {
      "text/plain": [
       "pandas.core.series.Series"
      ]
     },
     "execution_count": 32,
     "metadata": {},
     "output_type": "execute_result"
    }
   ],
   "source": [
    "type(department_popularity2)"
   ]
  },
  {
   "cell_type": "code",
   "execution_count": 33,
   "metadata": {},
   "outputs": [
    {
     "data": {
      "text/html": [
       "<div>\n",
       "<style scoped>\n",
       "    .dataframe tbody tr th:only-of-type {\n",
       "        vertical-align: middle;\n",
       "    }\n",
       "\n",
       "    .dataframe tbody tr th {\n",
       "        vertical-align: top;\n",
       "    }\n",
       "\n",
       "    .dataframe thead th {\n",
       "        text-align: right;\n",
       "    }\n",
       "</style>\n",
       "<table border=\"1\" class=\"dataframe\">\n",
       "  <thead>\n",
       "    <tr style=\"text-align: right;\">\n",
       "      <th></th>\n",
       "      <th>department_popularity_cnt</th>\n",
       "    </tr>\n",
       "    <tr>\n",
       "      <th>department_id</th>\n",
       "      <th></th>\n",
       "    </tr>\n",
       "  </thead>\n",
       "  <tbody>\n",
       "    <tr>\n",
       "      <th>4</th>\n",
       "      <td>0.929434</td>\n",
       "    </tr>\n",
       "    <tr>\n",
       "      <th>7</th>\n",
       "      <td>0.018574</td>\n",
       "    </tr>\n",
       "    <tr>\n",
       "      <th>16</th>\n",
       "      <td>0.051992</td>\n",
       "    </tr>\n",
       "  </tbody>\n",
       "</table>\n",
       "</div>"
      ],
      "text/plain": [
       "               department_popularity_cnt\n",
       "department_id                           \n",
       "4                               0.929434\n",
       "7                               0.018574\n",
       "16                              0.051992"
      ]
     },
     "execution_count": 33,
     "metadata": {},
     "output_type": "execute_result"
    }
   ],
   "source": [
    "department_popularity2.to_frame(name='department_popularity_cnt')"
   ]
  },
  {
   "cell_type": "code",
   "execution_count": 34,
   "metadata": {},
   "outputs": [],
   "source": [
    "df4=df3"
   ]
  },
  {
   "cell_type": "code",
   "execution_count": 35,
   "metadata": {},
   "outputs": [],
   "source": [
    "df4 = department_popularity2.to_frame(name='department_popularity_cnt')"
   ]
  },
  {
   "cell_type": "code",
   "execution_count": 36,
   "metadata": {},
   "outputs": [],
   "source": [
    "df4['department_id'] = df4.index"
   ]
  },
  {
   "cell_type": "code",
   "execution_count": 37,
   "metadata": {},
   "outputs": [],
   "source": [
    "df4.index.names=['index']"
   ]
  },
  {
   "cell_type": "code",
   "execution_count": 38,
   "metadata": {},
   "outputs": [],
   "source": [
    "df3.index.names=['index']"
   ]
  },
  {
   "cell_type": "code",
   "execution_count": 39,
   "metadata": {},
   "outputs": [],
   "source": [
    "df5 = pd.merge(df3,df4, left_on='department_id',right_on='department_id')"
   ]
  },
  {
   "cell_type": "code",
   "execution_count": 40,
   "metadata": {},
   "outputs": [
    {
     "data": {
      "text/html": [
       "<div>\n",
       "<style scoped>\n",
       "    .dataframe tbody tr th:only-of-type {\n",
       "        vertical-align: middle;\n",
       "    }\n",
       "\n",
       "    .dataframe tbody tr th {\n",
       "        vertical-align: top;\n",
       "    }\n",
       "\n",
       "    .dataframe thead th {\n",
       "        text-align: right;\n",
       "    }\n",
       "</style>\n",
       "<table border=\"1\" class=\"dataframe\">\n",
       "  <thead>\n",
       "    <tr style=\"text-align: right;\">\n",
       "      <th></th>\n",
       "      <th>product_id</th>\n",
       "      <th>product_name</th>\n",
       "      <th>user_id</th>\n",
       "      <th>department_id</th>\n",
       "      <th>department</th>\n",
       "      <th>order_id</th>\n",
       "      <th>order_number</th>\n",
       "      <th>order_dow</th>\n",
       "      <th>order_hour_of_day</th>\n",
       "      <th>days_since_prior_order</th>\n",
       "      <th>reordered</th>\n",
       "      <th>product_popularity_cnt</th>\n",
       "      <th>department_popularity_cnt</th>\n",
       "    </tr>\n",
       "  </thead>\n",
       "  <tbody>\n",
       "    <tr>\n",
       "      <th>0</th>\n",
       "      <td>5876</td>\n",
       "      <td>Organic Lemon</td>\n",
       "      <td>28568</td>\n",
       "      <td>4</td>\n",
       "      <td>produce</td>\n",
       "      <td>55441</td>\n",
       "      <td>5</td>\n",
       "      <td>0</td>\n",
       "      <td>11</td>\n",
       "      <td>28.0</td>\n",
       "      <td>0</td>\n",
       "      <td>0.021388</td>\n",
       "      <td>0.929434</td>\n",
       "    </tr>\n",
       "    <tr>\n",
       "      <th>1</th>\n",
       "      <td>5876</td>\n",
       "      <td>Organic Lemon</td>\n",
       "      <td>28595</td>\n",
       "      <td>4</td>\n",
       "      <td>produce</td>\n",
       "      <td>172923</td>\n",
       "      <td>7</td>\n",
       "      <td>6</td>\n",
       "      <td>20</td>\n",
       "      <td>30.0</td>\n",
       "      <td>1</td>\n",
       "      <td>0.021388</td>\n",
       "      <td>0.929434</td>\n",
       "    </tr>\n",
       "    <tr>\n",
       "      <th>2</th>\n",
       "      <td>5876</td>\n",
       "      <td>Organic Lemon</td>\n",
       "      <td>28631</td>\n",
       "      <td>4</td>\n",
       "      <td>produce</td>\n",
       "      <td>225732</td>\n",
       "      <td>7</td>\n",
       "      <td>6</td>\n",
       "      <td>12</td>\n",
       "      <td>30.0</td>\n",
       "      <td>1</td>\n",
       "      <td>0.021388</td>\n",
       "      <td>0.929434</td>\n",
       "    </tr>\n",
       "    <tr>\n",
       "      <th>3</th>\n",
       "      <td>5876</td>\n",
       "      <td>Organic Lemon</td>\n",
       "      <td>28680</td>\n",
       "      <td>4</td>\n",
       "      <td>produce</td>\n",
       "      <td>3052709</td>\n",
       "      <td>23</td>\n",
       "      <td>4</td>\n",
       "      <td>14</td>\n",
       "      <td>16.0</td>\n",
       "      <td>1</td>\n",
       "      <td>0.021388</td>\n",
       "      <td>0.929434</td>\n",
       "    </tr>\n",
       "    <tr>\n",
       "      <th>4</th>\n",
       "      <td>5876</td>\n",
       "      <td>Organic Lemon</td>\n",
       "      <td>28745</td>\n",
       "      <td>4</td>\n",
       "      <td>produce</td>\n",
       "      <td>1130353</td>\n",
       "      <td>93</td>\n",
       "      <td>5</td>\n",
       "      <td>12</td>\n",
       "      <td>4.0</td>\n",
       "      <td>1</td>\n",
       "      <td>0.021388</td>\n",
       "      <td>0.929434</td>\n",
       "    </tr>\n",
       "  </tbody>\n",
       "</table>\n",
       "</div>"
      ],
      "text/plain": [
       "   product_id   product_name  user_id  department_id department  order_id  \\\n",
       "0        5876  Organic Lemon    28568              4    produce     55441   \n",
       "1        5876  Organic Lemon    28595              4    produce    172923   \n",
       "2        5876  Organic Lemon    28631              4    produce    225732   \n",
       "3        5876  Organic Lemon    28680              4    produce   3052709   \n",
       "4        5876  Organic Lemon    28745              4    produce   1130353   \n",
       "\n",
       "   order_number  order_dow  order_hour_of_day  days_since_prior_order  \\\n",
       "0             5          0                 11                    28.0   \n",
       "1             7          6                 20                    30.0   \n",
       "2             7          6                 12                    30.0   \n",
       "3            23          4                 14                    16.0   \n",
       "4            93          5                 12                     4.0   \n",
       "\n",
       "   reordered  product_popularity_cnt  department_popularity_cnt  \n",
       "0          0                0.021388                   0.929434  \n",
       "1          1                0.021388                   0.929434  \n",
       "2          1                0.021388                   0.929434  \n",
       "3          1                0.021388                   0.929434  \n",
       "4          1                0.021388                   0.929434  "
      ]
     },
     "execution_count": 40,
     "metadata": {},
     "output_type": "execute_result"
    }
   ],
   "source": [
    "df5.head()"
   ]
  },
  {
   "cell_type": "code",
   "execution_count": 41,
   "metadata": {},
   "outputs": [
    {
     "data": {
      "text/plain": [
       "(4266433, 13)"
      ]
     },
     "execution_count": 41,
     "metadata": {},
     "output_type": "execute_result"
    }
   ],
   "source": [
    "df5.shape"
   ]
  },
  {
   "cell_type": "markdown",
   "metadata": {},
   "source": [
    "# Adding new column - does the products are organic : yes = 1, no = 0"
   ]
  },
  {
   "cell_type": "code",
   "execution_count": 43,
   "metadata": {},
   "outputs": [
    {
     "data": {
      "text/plain": [
       "{'Apple Honeycrisp Organic',\n",
       " 'Bag of Organic Bananas',\n",
       " 'Banana',\n",
       " 'Cucumber Kirby',\n",
       " 'Honeycrisp Apple',\n",
       " 'Large Lemon',\n",
       " 'Limes',\n",
       " 'Organic Avocado',\n",
       " 'Organic Baby Arugula',\n",
       " 'Organic Baby Carrots',\n",
       " 'Organic Baby Spinach',\n",
       " 'Organic Blueberries',\n",
       " 'Organic Cucumber',\n",
       " 'Organic Fuji Apple',\n",
       " 'Organic Gala Apples',\n",
       " 'Organic Garlic',\n",
       " 'Organic Grape Tomatoes',\n",
       " 'Organic Half & Half',\n",
       " 'Organic Hass Avocado',\n",
       " 'Organic Large Extra Fancy Fuji Apple',\n",
       " 'Organic Lemon',\n",
       " 'Organic Raspberries',\n",
       " 'Organic Strawberries',\n",
       " 'Organic Whole Milk',\n",
       " 'Organic Yellow Onion',\n",
       " 'Organic Zucchini',\n",
       " 'Seedless Red Grapes',\n",
       " 'Sparkling Water Grapefruit',\n",
       " 'Strawberries',\n",
       " 'Yellow Onions'}"
      ]
     },
     "execution_count": 43,
     "metadata": {},
     "output_type": "execute_result"
    }
   ],
   "source": [
    "set(df5.product_name.tolist()) # a distinct list of the product names"
   ]
  },
  {
   "cell_type": "code",
   "execution_count": 44,
   "metadata": {},
   "outputs": [
    {
     "data": {
      "text/html": [
       "<div>\n",
       "<style scoped>\n",
       "    .dataframe tbody tr th:only-of-type {\n",
       "        vertical-align: middle;\n",
       "    }\n",
       "\n",
       "    .dataframe tbody tr th {\n",
       "        vertical-align: top;\n",
       "    }\n",
       "\n",
       "    .dataframe thead th {\n",
       "        text-align: right;\n",
       "    }\n",
       "</style>\n",
       "<table border=\"1\" class=\"dataframe\">\n",
       "  <thead>\n",
       "    <tr style=\"text-align: right;\">\n",
       "      <th></th>\n",
       "      <th>product_id</th>\n",
       "      <th>product_name</th>\n",
       "      <th>user_id</th>\n",
       "      <th>department_id</th>\n",
       "      <th>department</th>\n",
       "      <th>order_id</th>\n",
       "      <th>order_number</th>\n",
       "      <th>order_dow</th>\n",
       "      <th>order_hour_of_day</th>\n",
       "      <th>days_since_prior_order</th>\n",
       "      <th>reordered</th>\n",
       "      <th>product_popularity_cnt</th>\n",
       "      <th>department_popularity_cnt</th>\n",
       "      <th>IsOrganic</th>\n",
       "    </tr>\n",
       "  </thead>\n",
       "  <tbody>\n",
       "    <tr>\n",
       "      <th>0</th>\n",
       "      <td>5876</td>\n",
       "      <td>Organic Lemon</td>\n",
       "      <td>28568</td>\n",
       "      <td>4</td>\n",
       "      <td>produce</td>\n",
       "      <td>55441</td>\n",
       "      <td>5</td>\n",
       "      <td>0</td>\n",
       "      <td>11</td>\n",
       "      <td>28.0</td>\n",
       "      <td>0</td>\n",
       "      <td>0.021388</td>\n",
       "      <td>0.929434</td>\n",
       "      <td>1</td>\n",
       "    </tr>\n",
       "    <tr>\n",
       "      <th>1</th>\n",
       "      <td>5876</td>\n",
       "      <td>Organic Lemon</td>\n",
       "      <td>28595</td>\n",
       "      <td>4</td>\n",
       "      <td>produce</td>\n",
       "      <td>172923</td>\n",
       "      <td>7</td>\n",
       "      <td>6</td>\n",
       "      <td>20</td>\n",
       "      <td>30.0</td>\n",
       "      <td>1</td>\n",
       "      <td>0.021388</td>\n",
       "      <td>0.929434</td>\n",
       "      <td>1</td>\n",
       "    </tr>\n",
       "    <tr>\n",
       "      <th>2</th>\n",
       "      <td>5876</td>\n",
       "      <td>Organic Lemon</td>\n",
       "      <td>28631</td>\n",
       "      <td>4</td>\n",
       "      <td>produce</td>\n",
       "      <td>225732</td>\n",
       "      <td>7</td>\n",
       "      <td>6</td>\n",
       "      <td>12</td>\n",
       "      <td>30.0</td>\n",
       "      <td>1</td>\n",
       "      <td>0.021388</td>\n",
       "      <td>0.929434</td>\n",
       "      <td>1</td>\n",
       "    </tr>\n",
       "    <tr>\n",
       "      <th>3</th>\n",
       "      <td>5876</td>\n",
       "      <td>Organic Lemon</td>\n",
       "      <td>28680</td>\n",
       "      <td>4</td>\n",
       "      <td>produce</td>\n",
       "      <td>3052709</td>\n",
       "      <td>23</td>\n",
       "      <td>4</td>\n",
       "      <td>14</td>\n",
       "      <td>16.0</td>\n",
       "      <td>1</td>\n",
       "      <td>0.021388</td>\n",
       "      <td>0.929434</td>\n",
       "      <td>1</td>\n",
       "    </tr>\n",
       "    <tr>\n",
       "      <th>4</th>\n",
       "      <td>5876</td>\n",
       "      <td>Organic Lemon</td>\n",
       "      <td>28745</td>\n",
       "      <td>4</td>\n",
       "      <td>produce</td>\n",
       "      <td>1130353</td>\n",
       "      <td>93</td>\n",
       "      <td>5</td>\n",
       "      <td>12</td>\n",
       "      <td>4.0</td>\n",
       "      <td>1</td>\n",
       "      <td>0.021388</td>\n",
       "      <td>0.929434</td>\n",
       "      <td>1</td>\n",
       "    </tr>\n",
       "  </tbody>\n",
       "</table>\n",
       "</div>"
      ],
      "text/plain": [
       "   product_id   product_name  user_id  department_id department  order_id  \\\n",
       "0        5876  Organic Lemon    28568              4    produce     55441   \n",
       "1        5876  Organic Lemon    28595              4    produce    172923   \n",
       "2        5876  Organic Lemon    28631              4    produce    225732   \n",
       "3        5876  Organic Lemon    28680              4    produce   3052709   \n",
       "4        5876  Organic Lemon    28745              4    produce   1130353   \n",
       "\n",
       "   order_number  order_dow  order_hour_of_day  days_since_prior_order  \\\n",
       "0             5          0                 11                    28.0   \n",
       "1             7          6                 20                    30.0   \n",
       "2             7          6                 12                    30.0   \n",
       "3            23          4                 14                    16.0   \n",
       "4            93          5                 12                     4.0   \n",
       "\n",
       "   reordered  product_popularity_cnt  department_popularity_cnt  IsOrganic  \n",
       "0          0                0.021388                   0.929434          1  \n",
       "1          1                0.021388                   0.929434          1  \n",
       "2          1                0.021388                   0.929434          1  \n",
       "3          1                0.021388                   0.929434          1  \n",
       "4          1                0.021388                   0.929434          1  "
      ]
     },
     "execution_count": 44,
     "metadata": {},
     "output_type": "execute_result"
    }
   ],
   "source": [
    "Organic_Filter = df5.product_name.str.contains(\"Organic\",na = False)\n",
    "df5['IsOrganic'] = Organic_Filter.astype(int)\n",
    "df5.head()"
   ]
  },
  {
   "cell_type": "code",
   "execution_count": 47,
   "metadata": {},
   "outputs": [
    {
     "data": {
      "text/plain": [
       "(4266433, 14)"
      ]
     },
     "execution_count": 47,
     "metadata": {},
     "output_type": "execute_result"
    }
   ],
   "source": [
    "df5.shape"
   ]
  },
  {
   "cell_type": "code",
   "execution_count": 65,
   "metadata": {},
   "outputs": [],
   "source": [
    "df5.to_csv(\"flat_file_final_12022018.csv\")"
   ]
  },
  {
   "cell_type": "markdown",
   "metadata": {},
   "source": [
    "# Exploratory Data Analysis (EDA)\n",
    "\n",
    "Showing graphs which will help us unsderstand the type of distributions of numeric data and for categorical data. \n"
   ]
  },
  {
   "cell_type": "code",
   "execution_count": 45,
   "metadata": {},
   "outputs": [
    {
     "data": {
      "text/plain": [
       "product_id                     int64\n",
       "product_name                  object\n",
       "user_id                        int64\n",
       "department_id                  int64\n",
       "department                    object\n",
       "order_id                       int64\n",
       "order_number                   int64\n",
       "order_dow                      int64\n",
       "order_hour_of_day              int64\n",
       "days_since_prior_order       float64\n",
       "reordered                      int64\n",
       "product_popularity_cnt       float64\n",
       "department_popularity_cnt    float64\n",
       "IsOrganic                      int32\n",
       "dtype: object"
      ]
     },
     "execution_count": 45,
     "metadata": {},
     "output_type": "execute_result"
    }
   ],
   "source": [
    "df5.dtypes"
   ]
  },
  {
   "cell_type": "code",
   "execution_count": 47,
   "metadata": {},
   "outputs": [
    {
     "data": {
      "text/plain": [
       "pandas.core.frame.DataFrame"
      ]
     },
     "execution_count": 47,
     "metadata": {},
     "output_type": "execute_result"
    }
   ],
   "source": [
    "type(df5)"
   ]
  },
  {
   "cell_type": "code",
   "execution_count": 48,
   "metadata": {},
   "outputs": [
    {
     "data": {
      "text/html": [
       "<div>\n",
       "<style scoped>\n",
       "    .dataframe tbody tr th:only-of-type {\n",
       "        vertical-align: middle;\n",
       "    }\n",
       "\n",
       "    .dataframe tbody tr th {\n",
       "        vertical-align: top;\n",
       "    }\n",
       "\n",
       "    .dataframe thead th {\n",
       "        text-align: right;\n",
       "    }\n",
       "</style>\n",
       "<table border=\"1\" class=\"dataframe\">\n",
       "  <thead>\n",
       "    <tr style=\"text-align: right;\">\n",
       "      <th></th>\n",
       "      <th>product_id</th>\n",
       "      <th>user_id</th>\n",
       "      <th>department_id</th>\n",
       "      <th>order_id</th>\n",
       "      <th>order_number</th>\n",
       "      <th>order_dow</th>\n",
       "      <th>order_hour_of_day</th>\n",
       "      <th>days_since_prior_order</th>\n",
       "      <th>reordered</th>\n",
       "      <th>product_popularity_cnt</th>\n",
       "      <th>department_popularity_cnt</th>\n",
       "      <th>IsOrganic</th>\n",
       "    </tr>\n",
       "  </thead>\n",
       "  <tbody>\n",
       "    <tr>\n",
       "      <th>count</th>\n",
       "      <td>4.266433e+06</td>\n",
       "      <td>4.266433e+06</td>\n",
       "      <td>4.266433e+06</td>\n",
       "      <td>4.266433e+06</td>\n",
       "      <td>4.266433e+06</td>\n",
       "      <td>4.266433e+06</td>\n",
       "      <td>4.266433e+06</td>\n",
       "      <td>4.025124e+06</td>\n",
       "      <td>4.266433e+06</td>\n",
       "      <td>4.266433e+06</td>\n",
       "      <td>4.266433e+06</td>\n",
       "      <td>4.266433e+06</td>\n",
       "    </tr>\n",
       "    <tr>\n",
       "      <th>mean</th>\n",
       "      <td>2.833460e+04</td>\n",
       "      <td>1.029210e+05</td>\n",
       "      <td>4.679622e+00</td>\n",
       "      <td>1.710412e+06</td>\n",
       "      <td>1.840892e+01</td>\n",
       "      <td>2.665776e+00</td>\n",
       "      <td>1.341232e+01</td>\n",
       "      <td>1.094071e+01</td>\n",
       "      <td>7.508846e-01</td>\n",
       "      <td>4.867858e-02</td>\n",
       "      <td>8.668962e-01</td>\n",
       "      <td>6.779143e-01</td>\n",
       "    </tr>\n",
       "    <tr>\n",
       "      <th>std</th>\n",
       "      <td>1.317267e+04</td>\n",
       "      <td>5.951753e+04</td>\n",
       "      <td>2.681806e+00</td>\n",
       "      <td>9.873701e+05</td>\n",
       "      <td>1.828686e+01</td>\n",
       "      <td>2.112515e+00</td>\n",
       "      <td>4.260521e+00</td>\n",
       "      <td>8.692847e+00</td>\n",
       "      <td>4.325008e-01</td>\n",
       "      <td>3.232704e-02</td>\n",
       "      <td>2.269977e-01</td>\n",
       "      <td>4.672757e-01</td>\n",
       "    </tr>\n",
       "    <tr>\n",
       "      <th>min</th>\n",
       "      <td>4.605000e+03</td>\n",
       "      <td>1.000000e+00</td>\n",
       "      <td>4.000000e+00</td>\n",
       "      <td>1.000000e+00</td>\n",
       "      <td>1.000000e+00</td>\n",
       "      <td>0.000000e+00</td>\n",
       "      <td>0.000000e+00</td>\n",
       "      <td>0.000000e+00</td>\n",
       "      <td>0.000000e+00</td>\n",
       "      <td>1.773261e-02</td>\n",
       "      <td>1.857406e-02</td>\n",
       "      <td>0.000000e+00</td>\n",
       "    </tr>\n",
       "    <tr>\n",
       "      <th>25%</th>\n",
       "      <td>2.113700e+04</td>\n",
       "      <td>5.115300e+04</td>\n",
       "      <td>4.000000e+00</td>\n",
       "      <td>8.550860e+05</td>\n",
       "      <td>5.000000e+00</td>\n",
       "      <td>1.000000e+00</td>\n",
       "      <td>1.000000e+01</td>\n",
       "      <td>5.000000e+00</td>\n",
       "      <td>1.000000e+00</td>\n",
       "      <td>2.138812e-02</td>\n",
       "      <td>9.294343e-01</td>\n",
       "      <td>0.000000e+00</td>\n",
       "    </tr>\n",
       "    <tr>\n",
       "      <th>50%</th>\n",
       "      <td>2.485200e+04</td>\n",
       "      <td>1.026110e+05</td>\n",
       "      <td>4.000000e+00</td>\n",
       "      <td>1.710271e+06</td>\n",
       "      <td>1.200000e+01</td>\n",
       "      <td>2.000000e+00</td>\n",
       "      <td>1.300000e+01</td>\n",
       "      <td>7.000000e+00</td>\n",
       "      <td>1.000000e+00</td>\n",
       "      <td>3.437532e-02</td>\n",
       "      <td>9.294343e-01</td>\n",
       "      <td>1.000000e+00</td>\n",
       "    </tr>\n",
       "    <tr>\n",
       "      <th>75%</th>\n",
       "      <td>4.226500e+04</td>\n",
       "      <td>1.544660e+05</td>\n",
       "      <td>4.000000e+00</td>\n",
       "      <td>2.565274e+06</td>\n",
       "      <td>2.600000e+01</td>\n",
       "      <td>5.000000e+00</td>\n",
       "      <td>1.600000e+01</td>\n",
       "      <td>1.400000e+01</td>\n",
       "      <td>1.000000e+00</td>\n",
       "      <td>6.459190e-02</td>\n",
       "      <td>9.294343e-01</td>\n",
       "      <td>1.000000e+00</td>\n",
       "    </tr>\n",
       "    <tr>\n",
       "      <th>max</th>\n",
       "      <td>4.968300e+04</td>\n",
       "      <td>2.062090e+05</td>\n",
       "      <td>1.600000e+01</td>\n",
       "      <td>3.421083e+06</td>\n",
       "      <td>1.000000e+02</td>\n",
       "      <td>6.000000e+00</td>\n",
       "      <td>2.300000e+01</td>\n",
       "      <td>3.000000e+01</td>\n",
       "      <td>1.000000e+00</td>\n",
       "      <td>1.151526e-01</td>\n",
       "      <td>9.294343e-01</td>\n",
       "      <td>1.000000e+00</td>\n",
       "    </tr>\n",
       "  </tbody>\n",
       "</table>\n",
       "</div>"
      ],
      "text/plain": [
       "         product_id       user_id  department_id      order_id  order_number  \\\n",
       "count  4.266433e+06  4.266433e+06   4.266433e+06  4.266433e+06  4.266433e+06   \n",
       "mean   2.833460e+04  1.029210e+05   4.679622e+00  1.710412e+06  1.840892e+01   \n",
       "std    1.317267e+04  5.951753e+04   2.681806e+00  9.873701e+05  1.828686e+01   \n",
       "min    4.605000e+03  1.000000e+00   4.000000e+00  1.000000e+00  1.000000e+00   \n",
       "25%    2.113700e+04  5.115300e+04   4.000000e+00  8.550860e+05  5.000000e+00   \n",
       "50%    2.485200e+04  1.026110e+05   4.000000e+00  1.710271e+06  1.200000e+01   \n",
       "75%    4.226500e+04  1.544660e+05   4.000000e+00  2.565274e+06  2.600000e+01   \n",
       "max    4.968300e+04  2.062090e+05   1.600000e+01  3.421083e+06  1.000000e+02   \n",
       "\n",
       "          order_dow  order_hour_of_day  days_since_prior_order     reordered  \\\n",
       "count  4.266433e+06       4.266433e+06            4.025124e+06  4.266433e+06   \n",
       "mean   2.665776e+00       1.341232e+01            1.094071e+01  7.508846e-01   \n",
       "std    2.112515e+00       4.260521e+00            8.692847e+00  4.325008e-01   \n",
       "min    0.000000e+00       0.000000e+00            0.000000e+00  0.000000e+00   \n",
       "25%    1.000000e+00       1.000000e+01            5.000000e+00  1.000000e+00   \n",
       "50%    2.000000e+00       1.300000e+01            7.000000e+00  1.000000e+00   \n",
       "75%    5.000000e+00       1.600000e+01            1.400000e+01  1.000000e+00   \n",
       "max    6.000000e+00       2.300000e+01            3.000000e+01  1.000000e+00   \n",
       "\n",
       "       product_popularity_cnt  department_popularity_cnt     IsOrganic  \n",
       "count            4.266433e+06               4.266433e+06  4.266433e+06  \n",
       "mean             4.867858e-02               8.668962e-01  6.779143e-01  \n",
       "std              3.232704e-02               2.269977e-01  4.672757e-01  \n",
       "min              1.773261e-02               1.857406e-02  0.000000e+00  \n",
       "25%              2.138812e-02               9.294343e-01  0.000000e+00  \n",
       "50%              3.437532e-02               9.294343e-01  1.000000e+00  \n",
       "75%              6.459190e-02               9.294343e-01  1.000000e+00  \n",
       "max              1.151526e-01               9.294343e-01  1.000000e+00  "
      ]
     },
     "execution_count": 48,
     "metadata": {},
     "output_type": "execute_result"
    }
   ],
   "source": [
    "df5.describe()"
   ]
  },
  {
   "cell_type": "markdown",
   "metadata": {},
   "source": [
    "# The next notebook : Explatory_data_project_adding more columns -17.02.19"
   ]
  },
  {
   "cell_type": "code",
   "execution_count": null,
   "metadata": {},
   "outputs": [],
   "source": []
  }
 ],
 "metadata": {
  "kernelspec": {
   "display_name": "Python 3",
   "language": "python",
   "name": "python3"
  },
  "language_info": {
   "codemirror_mode": {
    "name": "ipython",
    "version": 3
   },
   "file_extension": ".py",
   "mimetype": "text/x-python",
   "name": "python",
   "nbconvert_exporter": "python",
   "pygments_lexer": "ipython3",
   "version": "3.7.1"
  }
 },
 "nbformat": 4,
 "nbformat_minor": 2
}
